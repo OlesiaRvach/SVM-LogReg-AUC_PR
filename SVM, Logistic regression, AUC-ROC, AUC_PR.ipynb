{
 "cells": [
  {
   "cell_type": "markdown",
   "metadata": {},
   "source": [
    "- ### SVM, Logistic regression, AUC-ROC, AUC_PR \n",
    "- ### methods of transformation of variables \n",
    "- ### methods of selection of features"
   ]
  },
  {
   "cell_type": "code",
   "execution_count": 1,
   "metadata": {},
   "outputs": [],
   "source": [
    "import numpy as np\n",
    "import pandas as pd\n",
    "import matplotlib.pyplot as plt\n",
    "%matplotlib inline\n",
    "\n",
    "pd.set_option('display.max_rows', 100)\n",
    "pd.set_option('display.max_columns', 100)"
   ]
  },
  {
   "cell_type": "code",
   "execution_count": 2,
   "metadata": {},
   "outputs": [
    {
     "name": "stderr",
     "output_type": "stream",
     "text": [
      "C:\\Users\\krup1\\anaconda3\\lib\\site-packages\\sklearn\\utils\\deprecation.py:143: FutureWarning: The sklearn.utils.testing module is  deprecated in version 0.22 and will be removed in version 0.24. The corresponding classes / functions should instead be imported from sklearn.utils. Anything that cannot be imported from sklearn.utils is now part of the private API.\n",
      "  warnings.warn(message, FutureWarning)\n"
     ]
    }
   ],
   "source": [
    "import warnings\n",
    "import time\n",
    "import matplotlib.pyplot as plt\n",
    "from sklearn.svm import LinearSVC, SVC\n",
    "from sklearn.model_selection import train_test_split\n",
    "from sklearn.metrics import roc_auc_score, roc_curve, auc, precision_recall_curve, average_precision_score\n",
    "from sklearn.linear_model import LogisticRegression\n",
    "from sklearn.calibration import CalibratedClassifierCV\n",
    "from sklearn.preprocessing import StandardScaler, OneHotEncoder, OrdinalEncoder\n",
    "from sklearn.utils.testing import ignore_warnings\n",
    "from sklearn.exceptions import ConvergenceWarning"
   ]
  },
  {
   "cell_type": "code",
   "execution_count": 3,
   "metadata": {},
   "outputs": [],
   "source": [
    "warnings.filterwarnings(\"ignore\", category=ConvergenceWarning)\n",
    "warnings.filterwarnings(\"ignore\", category=FutureWarning)"
   ]
  },
  {
   "cell_type": "markdown",
   "metadata": {},
   "source": [
    "# SVM, LR, calibration of probabilities"
   ]
  },
  {
   "cell_type": "markdown",
   "metadata": {},
   "source": [
    "Сгенерируем синтетические данные."
   ]
  },
  {
   "cell_type": "code",
   "execution_count": 4,
   "metadata": {},
   "outputs": [],
   "source": [
    "from sklearn.datasets import make_classification\n",
    "from sklearn.model_selection import train_test_split\n",
    "\n",
    "X, y = make_classification(\n",
    "    n_samples=10000, n_features=10, n_informative=5, n_redundant=5,\n",
    "    random_state=42)"
   ]
  },
  {
   "cell_type": "markdown",
   "metadata": {},
   "source": [
    "- #### Обучим метод орорных векторов\n",
    "- #### Подберем параметр регуляризации с точки зрения AUC-PR"
   ]
  },
  {
   "cell_type": "code",
   "execution_count": 5,
   "metadata": {},
   "outputs": [],
   "source": [
    "#подсчет AUC-PR\n",
    "def auc_pr(y_test, y_pred):\n",
    "    precision, recall, thresholds = precision_recall_curve(y_test, y_pred)\n",
    "    return auc(recall, precision)"
   ]
  },
  {
   "cell_type": "code",
   "execution_count": 6,
   "metadata": {},
   "outputs": [],
   "source": [
    "from sklearn.preprocessing import StandardScaler\n",
    "\n",
    "scl = StandardScaler()\n",
    "X = scl.fit_transform(X)\n",
    "\n",
    "#обучающая и тестовая\n",
    "X_train, X_test, y_train, y_test = train_test_split(X, y, test_size=0.3, random_state=42)\n",
    "\n",
    "#валидационная\n",
    "X_train1, X_val, y_train1, y_val = train_test_split(X_train, y_train, test_size=0.25, random_state=42)"
   ]
  },
  {
   "cell_type": "code",
   "execution_count": 7,
   "metadata": {},
   "outputs": [],
   "source": [
    "#подбор гиперпараметра С (подбирается с использованием валидационной выборки)\n",
    "def c_best_selection (C_set, clf, X_t, y_t, X_val, y_val):\n",
    "    auc_p_r = 0\n",
    "    C = 1.0\n",
    "    \n",
    "    for C_i in C_set:\n",
    "        clf.C = C_i\n",
    "\n",
    "        clf.fit(X_t, y_t)\n",
    "        a_x = clf.predict(X_val)\n",
    "\n",
    "        #вычисляем precision и recall\n",
    "        precision, recall, thresholds = precision_recall_curve(y_val, a_x)\n",
    "        #считаем площадь под кривыми precision и recall\n",
    "        auc_precision_recall = auc(recall, precision)\n",
    "\n",
    "        if auc_precision_recall > auc_p_r:\n",
    "            auc_p_r = auc_precision_recall\n",
    "            C = C_i\n",
    "    print(\"Подобранный параметр С =\", C)\n",
    "    return C"
   ]
  },
  {
   "cell_type": "code",
   "execution_count": 8,
   "metadata": {},
   "outputs": [
    {
     "name": "stdout",
     "output_type": "stream",
     "text": [
      "Подобранный параметр С = 68926121043497.375\n"
     ]
    }
   ],
   "source": [
    "best_c_linearSVC = c_best_selection(list(np.logspace(-20, 30, 100)), LinearSVC(), X_train1, y_train1, X_val, y_val)"
   ]
  },
  {
   "cell_type": "markdown",
   "metadata": {},
   "source": [
    "На тестовой части посторим ROC и PR кривые, посчитем AUC-ROC, AUC-PR.\n",
    "\n",
    "\n",
    "Сравним AUC-ROC и AUC-PR с этими же метриками для случайного классификатора."
   ]
  },
  {
   "cell_type": "markdown",
   "metadata": {},
   "source": [
    "### Считаем"
   ]
  },
  {
   "cell_type": "code",
   "execution_count": 9,
   "metadata": {},
   "outputs": [],
   "source": [
    "#зафиксируем подобранный параметр C, обучим модель, сделаем прогноз\n",
    "clf = LinearSVC()\n",
    "clf.C = best_c_linearSVC\n",
    "clf.fit(X_train, y_train)\n",
    "a_x = clf.predict(X_test)"
   ]
  },
  {
   "cell_type": "code",
   "execution_count": 10,
   "metadata": {},
   "outputs": [],
   "source": [
    "#посчитаем метрики \n",
    "precision, recall, thresholds_pr = precision_recall_curve(y_test, a_x)\n",
    "fpr, tpr, thresholds_roc = roc_curve(y_test, a_x)"
   ]
  },
  {
   "cell_type": "code",
   "execution_count": 11,
   "metadata": {},
   "outputs": [
    {
     "name": "stdout",
     "output_type": "stream",
     "text": [
      "AUC-ROC : 0.74897\n",
      "AUC-PR : 0.81456\n"
     ]
    }
   ],
   "source": [
    "#считаем AUC-ROC, AUC-PR с точностью до 5 знаков\n",
    "print (\"AUC-ROC : %0.5f\" % auc(fpr, tpr))\n",
    "print (\"AUC-PR : %0.5f\" % auc(recall, precision))"
   ]
  },
  {
   "cell_type": "markdown",
   "metadata": {},
   "source": [
    "### Строим"
   ]
  },
  {
   "cell_type": "code",
   "execution_count": 12,
   "metadata": {},
   "outputs": [
    {
     "data": {
      "image/png": "[encoded data removed]",
      "text/plain": [
       "<Figure size 648x360 with 1 Axes>"
      ]
     },
     "metadata": {
      "needs_background": "light"
     },
     "output_type": "display_data"
    }
   ],
   "source": [
    "plt.figure(figsize=(9, 5))\n",
    "\n",
    "plt.plot(fpr, tpr, color='magenta', label='ROC')\n",
    "plt.plot([0, 1], [0, 1], linestyle='--')\n",
    "\n",
    "plt.xlabel('False Positive Rate')\n",
    "plt.ylabel('True Positive Rate')\n",
    "plt.title('Receiver Operating Characteristic')\n",
    "plt.legend()\n",
    "plt.show()"
   ]
  },
  {
   "cell_type": "code",
   "execution_count": 13,
   "metadata": {},
   "outputs": [
    {
     "data": {
      "image/png": "[encoded data removed]",
      "text/plain": [
       "<Figure size 720x432 with 1 Axes>"
      ]
     },
     "metadata": {
      "needs_background": "light"
     },
     "output_type": "display_data"
    }
   ],
   "source": [
    "plt.figure(figsize=(10, 6))\n",
    "\n",
    "plt.plot(precision, recall, color='indigo', label='PR')\n",
    "plt.plot([1, 0.5], [0, 1], linestyle='--')\n",
    "\n",
    "plt.xlabel('Precision')\n",
    "plt.ylabel('Recall')\n",
    "plt.title('Precision-Recall curve')\n",
    "plt.legend()\n",
    "plt.show()"
   ]
  },
  {
   "cell_type": "markdown",
   "metadata": {},
   "source": [
    "### Сравниваем"
   ]
  },
  {
   "cell_type": "markdown",
   "metadata": {},
   "source": [
    "**Заметим, что прогнозы нашей модели лучше, чем прогнозы случайного классификатора. Это легко понять, потому что ROC и PR кривые лежат выше диагонали.**"
   ]
  },
  {
   "cell_type": "markdown",
   "metadata": {},
   "source": [
    "### Посмотрим на качетво при использовании логистической регрессии с тем же набором действий"
   ]
  },
  {
   "cell_type": "code",
   "execution_count": 14,
   "metadata": {},
   "outputs": [
    {
     "name": "stdout",
     "output_type": "stream",
     "text": [
      "Подобранный параметр С = 0.015199110829529393\n"
     ]
    }
   ],
   "source": [
    "best_c_LR = c_best_selection(list(np.logspace(-20, 30, 100)), LogisticRegression(), X_train1, y_train1, X_val, y_val)"
   ]
  },
  {
   "cell_type": "code",
   "execution_count": 15,
   "metadata": {},
   "outputs": [
    {
     "name": "stdout",
     "output_type": "stream",
     "text": [
      "AUC-ROC : 0.77101\n",
      "AUC-PR : 0.83092\n"
     ]
    }
   ],
   "source": [
    "#зафиксируем подобранный параметр C, обучим модель, сделаем прогноз\n",
    "clf = LogisticRegression()\n",
    "clf.C = best_c_LR\n",
    "clf.fit(X_train, y_train)\n",
    "a_x = clf.predict(X_test)\n",
    "\n",
    "#посчитаем метрики \n",
    "precision, recall, thresholds_pr = precision_recall_curve(y_test, a_x)\n",
    "fpr, tpr, thresholds_roc = roc_curve(y_test, a_x)\n",
    "\n",
    "#считаем AUC-ROC, AUC-PR с точностью до 5 знаков\n",
    "print (\"AUC-ROC : %0.5f\" % auc(fpr, tpr))\n",
    "print (\"AUC-PR : %0.5f\" % auc(recall, precision))"
   ]
  },
  {
   "cell_type": "markdown",
   "metadata": {},
   "source": [
    "### Строим"
   ]
  },
  {
   "cell_type": "code",
   "execution_count": 16,
   "metadata": {},
   "outputs": [
    {
     "data": {
      "image/png": "[encoded data removed]",
      "text/plain": [
       "<Figure size 648x360 with 1 Axes>"
      ]
     },
     "metadata": {
      "needs_background": "light"
     },
     "output_type": "display_data"
    }
   ],
   "source": [
    "plt.figure(figsize=(9, 5))\n",
    "\n",
    "plt.plot(fpr, tpr, color='magenta', label='ROC')\n",
    "plt.plot([0, 1], [0, 1], linestyle='--')\n",
    "\n",
    "plt.xlabel('False Positive Rate')\n",
    "plt.ylabel('True Positive Rate')\n",
    "plt.title('Receiver Operating Characteristic LR')\n",
    "plt.legend()\n",
    "plt.show()"
   ]
  },
  {
   "cell_type": "code",
   "execution_count": 17,
   "metadata": {},
   "outputs": [
    {
     "data": {
      "image/png": "[encoded data removed]",
      "text/plain": [
       "<Figure size 720x432 with 1 Axes>"
      ]
     },
     "metadata": {
      "needs_background": "light"
     },
     "output_type": "display_data"
    }
   ],
   "source": [
    "plt.figure(figsize=(10, 6))\n",
    "\n",
    "plt.plot(precision, recall, color='indigo', label='PR')\n",
    "plt.plot([1, 0.5], [0, 1], linestyle='--')\n",
    "\n",
    "plt.xlabel('Precision')\n",
    "plt.ylabel('Recall')\n",
    "plt.title('Precision-Recall curve LR')\n",
    "plt.legend()\n",
    "plt.show()"
   ]
  },
  {
   "cell_type": "markdown",
   "metadata": {},
   "source": [
    "### Сравнение результатов LR и SVM"
   ]
  },
  {
   "cell_type": "markdown",
   "metadata": {},
   "source": [
    "### Заметим, что результаты получились примерно одинаковыми.\n",
    "\n",
    "**На мой взгляд, они незначительно различаются из-за того, что LR и SVM представляют разные принципы классификации, т.е. в основе LR лежит теория вероятностей (вероятность того, что выборка равна 1, может быть представлена сигмоидальной функцией, а затем значение параметра оценивается методом оценки максимального правдоподобия), а в SVM максимизации геометрического интервала (плоскость классификации с наибольшим геометрическим интервалом считается оптимальной плоскостью классификации).**\n",
    "\n",
    "**Еще видим, что LR сработало чуть похуже, это понятно, так как от нее мы требуем точной оценки вероятности, SVM сработал получше, так как здесь главная задача хорошо разделить объекты (без ошибок), не говоря о степени уверенности в классе.**\n"
   ]
  },
  {
   "cell_type": "markdown",
   "metadata": {},
   "source": [
    "### Калибровка вероятностей.\n",
    "\n",
    "Перейдём к оценке качества выдаваемых алгоритмами вероятностей. Начнём с калибровочных кривых. "
   ]
  },
  {
   "cell_type": "code",
   "execution_count": 23,
   "metadata": {},
   "outputs": [],
   "source": [
    "def plot_calibration_curve(y_test, preds):\n",
    "    bin_middle_points = []\n",
    "    bin_real_ratios = []\n",
    "    n_bins = 10\n",
    "    for i in range(n_bins):\n",
    "        l = 1.0 / n_bins * i\n",
    "        r = 1.0 / n_bins * (i + 1)\n",
    "        bin_middle_points.append((l + r) / 2) \n",
    "        bin_real_ratios.append(np.sum(y_test[(preds >= l) & (preds < r)] == 1) / len(y_test[(preds >= l) & (preds < r)])) \n",
    "    plt.figure(figsize=(6,6))\n",
    "    plt.plot(bin_middle_points, bin_real_ratios)\n",
    "    plt.ylim([-0.05, 1.05])\n",
    "    plt.grid()"
   ]
  },
  {
   "cell_type": "markdown",
   "metadata": {},
   "source": [
    "### Сгенерируем данные"
   ]
  },
  {
   "cell_type": "code",
   "execution_count": 24,
   "metadata": {},
   "outputs": [],
   "source": [
    "X, y = make_classification(\n",
    "    n_samples=10000, n_features=10, n_informative=5, n_redundant=5,\n",
    "    random_state=42)\n",
    "\n",
    "X = scl.fit_transform(X)\n",
    "\n",
    "X_train, X_test, y_train, y_test = train_test_split(\n",
    "    X, y, test_size=0.3, random_state=42)"
   ]
  },
  {
   "cell_type": "markdown",
   "metadata": {},
   "source": [
    "### Обучаем тестируем логистическую регрессию, строим колибровочную кривую"
   ]
  },
  {
   "cell_type": "code",
   "execution_count": 25,
   "metadata": {},
   "outputs": [
    {
     "data": {
      "text/plain": [
       "Text(0.5, 1.0, 'Сalibration curve LR')"
      ]
     },
     "execution_count": 25,
     "metadata": {},
     "output_type": "execute_result"
    },
    {
     "data": {
      "image/png": "[encoded data removed]",
      "text/plain": [
       "<Figure size 432x432 with 1 Axes>"
      ]
     },
     "metadata": {
      "needs_background": "light"
     },
     "output_type": "display_data"
    }
   ],
   "source": [
    "clf = LogisticRegression()\n",
    "clf.probability = True\n",
    "clf.fit(X_train, y_train)\n",
    "lr_pred = clf.predict_proba(X_test)[:, 1]\n",
    "\n",
    "plot_calibration_curve(y_test, lr_pred)\n",
    "plt.plot([0, 1], [0, 1], label='Perfect', linestyle='--', color='grey')\n",
    "plt.legend()\n",
    "\n",
    "plt.xlabel('middle points')\n",
    "plt.ylabel('real ratios')\n",
    "plt.title('Сalibration curve LR')"
   ]
  },
  {
   "cell_type": "markdown",
   "metadata": {},
   "source": [
    "### Обучаем тестируем метод опорных векторов, строим колибровочную кривую"
   ]
  },
  {
   "cell_type": "code",
   "execution_count": 26,
   "metadata": {},
   "outputs": [
    {
     "data": {
      "text/plain": [
       "Text(0.5, 1.0, 'Сalibration curve SVC')"
      ]
     },
     "execution_count": 26,
     "metadata": {},
     "output_type": "execute_result"
    },
    {
     "data": {
      "image/png": "[encoded data removed]",
      "text/plain": [
       "<Figure size 432x432 with 1 Axes>"
      ]
     },
     "metadata": {
      "needs_background": "light"
     },
     "output_type": "display_data"
    }
   ],
   "source": [
    "clf = SVC(kernel='linear')\n",
    "clf.probability = True\n",
    "clf.fit(X_train, y_train)\n",
    "svc_pred = clf.predict_proba(X_test)[:, 1]\n",
    "\n",
    "plot_calibration_curve(y_test, svc_pred)\n",
    "plt.plot([0, 1], [0, 1], label='Perfect', linestyle='--', color='yellow')\n",
    "plt.legend()\n",
    "\n",
    "plt.xlabel('middle points')\n",
    "plt.ylabel('real ratios')\n",
    "plt.title('Сalibration curve SVC')"
   ]
  },
  {
   "cell_type": "markdown",
   "metadata": {},
   "source": [
    "**Смотря на калибровочные кривые, кажется, что LR справилась чуть лучше. Но вообще сильных отличий не видно.**"
   ]
  },
  {
   "cell_type": "markdown",
   "metadata": {},
   "source": [
    "### Посмотрим на распределение ответов классификаторов "
   ]
  },
  {
   "cell_type": "code",
   "execution_count": 27,
   "metadata": {},
   "outputs": [
    {
     "data": {
      "image/png": "[encoded data removed]",
      "text/plain": [
       "<Figure size 1008x504 with 2 Axes>"
      ]
     },
     "metadata": {
      "needs_background": "light"
     },
     "output_type": "display_data"
    }
   ],
   "source": [
    "fig, axs = plt.subplots(1, 2, figsize=(14, 7))\n",
    "\n",
    "axs[0].hist(svc_pred, bins=20, color='blue', density='True')\n",
    "axs[1].hist(lr_pred, bins=20, color='orange', density='True')\n",
    "\n",
    "axs[0].set_title('SVC')\n",
    "axs[1].set_title('Logistic regression')\n",
    "\n",
    "plt.suptitle('Outputs distribution')\n",
    "plt.show()"
   ]
  },
  {
   "cell_type": "markdown",
   "metadata": {},
   "source": [
    "**Про отличия трудно что-то сказать, так как, смотря на графики, их почти не видно. Незначительные есть, могу объяснить это тем, что LR и SVM представляют разные принципы классификации, как было описано выше.**"
   ]
  },
  {
   "cell_type": "markdown",
   "metadata": {},
   "source": [
    "Воспользуйтесь `CalibratedClassifierCV` из `sklearn` для калибровки вероятностей метода опорных векторов на обучении и постройте с его помощью предсказания для тестовой выборки. Нарисуйте для них калибровочную кривую. Улучшилась ли она?"
   ]
  },
  {
   "cell_type": "markdown",
   "metadata": {},
   "source": [
    "Воспользуемся CalibratedClassifierCV из sklearn для калибровки вероятностей метода опорных векторов на обучении, построим с его помощью предсказания для тестовой выборки. Проанализируем калибровочную кривую."
   ]
  },
  {
   "cell_type": "markdown",
   "metadata": {},
   "source": [
    "### Обучаем, тестируем и строим"
   ]
  },
  {
   "cell_type": "code",
   "execution_count": 28,
   "metadata": {},
   "outputs": [
    {
     "data": {
      "text/plain": [
       "Text(0.5, 1.0, 'Сalibration curve SVC (CalibratedClassifierCV)')"
      ]
     },
     "execution_count": 28,
     "metadata": {},
     "output_type": "execute_result"
    },
    {
     "data": {
      "image/png": "[encoded data removed]",
      "text/plain": [
       "<Figure size 432x432 with 1 Axes>"
      ]
     },
     "metadata": {
      "needs_background": "light"
     },
     "output_type": "display_data"
    }
   ],
   "source": [
    "clf = CalibratedClassifierCV()\n",
    "clf.probability = True\n",
    "clf.fit(X_train, y_train)\n",
    "ccl_pred = clf.predict_proba(X_test)[:, 1]\n",
    "\n",
    "plot_calibration_curve(y_test, ccl_pred)\n",
    "plt.plot([0, 1], [0, 1], label='Perfect', linestyle='--', color='yellow')\n",
    "plt.legend()\n",
    "\n",
    "plt.xlabel('middle points')\n",
    "plt.ylabel('real ratios')\n",
    "plt.title('Сalibration curve SVC (CalibratedClassifierCV)')"
   ]
  },
  {
   "cell_type": "markdown",
   "metadata": {},
   "source": [
    "**Кажется, что калибровочная кривая стала лучше, т.е. отклоняться от идеала она стала меньше.**"
   ]
  },
  {
   "cell_type": "markdown",
   "metadata": {},
   "source": [
    "# Работаем с переменными"
   ]
  },
  {
   "cell_type": "markdown",
   "metadata": {},
   "source": [
    "Посмотрим на два основных способа обработки категориальных значений:\n",
    "- One-hot-кодирование\n",
    "- CTR, mean-target кодирование — каждый категориальный признак заменяется на среднее значение целевой переменной по всем объектам, имеющим одинаковое значение в этом признаке."
   ]
  },
  {
   "cell_type": "markdown",
   "metadata": {},
   "source": [
    "Загрузим данные [UCI Bank Marketing Dataset](https://archive.ics.uci.edu/ml/datasets/bank+marketing). "
   ]
  },
  {
   "cell_type": "code",
   "execution_count": 30,
   "metadata": {},
   "outputs": [
    {
     "name": "stderr",
     "output_type": "stream",
     "text": [
      "\"wget\" ­Ґ пў«пҐвбп ў­гваҐ­­Ґ© Ё«Ё ў­Ґи­Ґ©\n",
      "Є®¬ ­¤®©, ЁбЇ®«­пҐ¬®© Їа®Ја ¬¬®© Ё«Ё Ї ЄҐв­л¬ д ©«®¬.\n",
      "\"unzip\" ­Ґ пў«пҐвбп ў­гваҐ­­Ґ© Ё«Ё ў­Ґи­Ґ©\n",
      "Є®¬ ­¤®©, ЁбЇ®«­пҐ¬®© Їа®Ја ¬¬®© Ё«Ё Ї ЄҐв­л¬ д ©«®¬.\n"
     ]
    }
   ],
   "source": [
    "!wget https://archive.ics.uci.edu/ml/machine-learning-databases/00222/bank-additional.zip\n",
    "!unzip bank-additional.zip\n",
    "df = pd.read_csv('bank-additional-full.csv', sep=';')"
   ]
  },
  {
   "cell_type": "code",
   "execution_count": 31,
   "metadata": {},
   "outputs": [
    {
     "data": {
      "text/html": [
       "<div>\n",
       "<style scoped>\n",
       "    .dataframe tbody tr th:only-of-type {\n",
       "        vertical-align: middle;\n",
       "    }\n",
       "\n",
       "    .dataframe tbody tr th {\n",
       "        vertical-align: top;\n",
       "    }\n",
       "\n",
       "    .dataframe thead th {\n",
       "        text-align: right;\n",
       "    }\n",
       "</style>\n",
       "<table border=\"1\" class=\"dataframe\">\n",
       "  <thead>\n",
       "    <tr style=\"text-align: right;\">\n",
       "      <th></th>\n",
       "      <th>age</th>\n",
       "      <th>job</th>\n",
       "      <th>marital</th>\n",
       "      <th>education</th>\n",
       "      <th>default</th>\n",
       "      <th>housing</th>\n",
       "      <th>loan</th>\n",
       "      <th>contact</th>\n",
       "      <th>month</th>\n",
       "      <th>day_of_week</th>\n",
       "      <th>duration</th>\n",
       "      <th>campaign</th>\n",
       "      <th>pdays</th>\n",
       "      <th>previous</th>\n",
       "      <th>poutcome</th>\n",
       "      <th>emp.var.rate</th>\n",
       "      <th>cons.price.idx</th>\n",
       "      <th>cons.conf.idx</th>\n",
       "      <th>euribor3m</th>\n",
       "      <th>nr.employed</th>\n",
       "      <th>y</th>\n",
       "    </tr>\n",
       "  </thead>\n",
       "  <tbody>\n",
       "    <tr>\n",
       "      <th>0</th>\n",
       "      <td>56</td>\n",
       "      <td>housemaid</td>\n",
       "      <td>married</td>\n",
       "      <td>basic.4y</td>\n",
       "      <td>no</td>\n",
       "      <td>no</td>\n",
       "      <td>no</td>\n",
       "      <td>telephone</td>\n",
       "      <td>may</td>\n",
       "      <td>mon</td>\n",
       "      <td>261</td>\n",
       "      <td>1</td>\n",
       "      <td>999</td>\n",
       "      <td>0</td>\n",
       "      <td>nonexistent</td>\n",
       "      <td>1.1</td>\n",
       "      <td>93.994</td>\n",
       "      <td>-36.4</td>\n",
       "      <td>4.857</td>\n",
       "      <td>5191.0</td>\n",
       "      <td>no</td>\n",
       "    </tr>\n",
       "    <tr>\n",
       "      <th>1</th>\n",
       "      <td>57</td>\n",
       "      <td>services</td>\n",
       "      <td>married</td>\n",
       "      <td>high.school</td>\n",
       "      <td>unknown</td>\n",
       "      <td>no</td>\n",
       "      <td>no</td>\n",
       "      <td>telephone</td>\n",
       "      <td>may</td>\n",
       "      <td>mon</td>\n",
       "      <td>149</td>\n",
       "      <td>1</td>\n",
       "      <td>999</td>\n",
       "      <td>0</td>\n",
       "      <td>nonexistent</td>\n",
       "      <td>1.1</td>\n",
       "      <td>93.994</td>\n",
       "      <td>-36.4</td>\n",
       "      <td>4.857</td>\n",
       "      <td>5191.0</td>\n",
       "      <td>no</td>\n",
       "    </tr>\n",
       "    <tr>\n",
       "      <th>2</th>\n",
       "      <td>37</td>\n",
       "      <td>services</td>\n",
       "      <td>married</td>\n",
       "      <td>high.school</td>\n",
       "      <td>no</td>\n",
       "      <td>yes</td>\n",
       "      <td>no</td>\n",
       "      <td>telephone</td>\n",
       "      <td>may</td>\n",
       "      <td>mon</td>\n",
       "      <td>226</td>\n",
       "      <td>1</td>\n",
       "      <td>999</td>\n",
       "      <td>0</td>\n",
       "      <td>nonexistent</td>\n",
       "      <td>1.1</td>\n",
       "      <td>93.994</td>\n",
       "      <td>-36.4</td>\n",
       "      <td>4.857</td>\n",
       "      <td>5191.0</td>\n",
       "      <td>no</td>\n",
       "    </tr>\n",
       "    <tr>\n",
       "      <th>3</th>\n",
       "      <td>40</td>\n",
       "      <td>admin.</td>\n",
       "      <td>married</td>\n",
       "      <td>basic.6y</td>\n",
       "      <td>no</td>\n",
       "      <td>no</td>\n",
       "      <td>no</td>\n",
       "      <td>telephone</td>\n",
       "      <td>may</td>\n",
       "      <td>mon</td>\n",
       "      <td>151</td>\n",
       "      <td>1</td>\n",
       "      <td>999</td>\n",
       "      <td>0</td>\n",
       "      <td>nonexistent</td>\n",
       "      <td>1.1</td>\n",
       "      <td>93.994</td>\n",
       "      <td>-36.4</td>\n",
       "      <td>4.857</td>\n",
       "      <td>5191.0</td>\n",
       "      <td>no</td>\n",
       "    </tr>\n",
       "    <tr>\n",
       "      <th>4</th>\n",
       "      <td>56</td>\n",
       "      <td>services</td>\n",
       "      <td>married</td>\n",
       "      <td>high.school</td>\n",
       "      <td>no</td>\n",
       "      <td>no</td>\n",
       "      <td>yes</td>\n",
       "      <td>telephone</td>\n",
       "      <td>may</td>\n",
       "      <td>mon</td>\n",
       "      <td>307</td>\n",
       "      <td>1</td>\n",
       "      <td>999</td>\n",
       "      <td>0</td>\n",
       "      <td>nonexistent</td>\n",
       "      <td>1.1</td>\n",
       "      <td>93.994</td>\n",
       "      <td>-36.4</td>\n",
       "      <td>4.857</td>\n",
       "      <td>5191.0</td>\n",
       "      <td>no</td>\n",
       "    </tr>\n",
       "  </tbody>\n",
       "</table>\n",
       "</div>"
      ],
      "text/plain": [
       "   age        job  marital    education  default housing loan    contact  \\\n",
       "0   56  housemaid  married     basic.4y       no      no   no  telephone   \n",
       "1   57   services  married  high.school  unknown      no   no  telephone   \n",
       "2   37   services  married  high.school       no     yes   no  telephone   \n",
       "3   40     admin.  married     basic.6y       no      no   no  telephone   \n",
       "4   56   services  married  high.school       no      no  yes  telephone   \n",
       "\n",
       "  month day_of_week  duration  campaign  pdays  previous     poutcome  \\\n",
       "0   may         mon       261         1    999         0  nonexistent   \n",
       "1   may         mon       149         1    999         0  nonexistent   \n",
       "2   may         mon       226         1    999         0  nonexistent   \n",
       "3   may         mon       151         1    999         0  nonexistent   \n",
       "4   may         mon       307         1    999         0  nonexistent   \n",
       "\n",
       "   emp.var.rate  cons.price.idx  cons.conf.idx  euribor3m  nr.employed   y  \n",
       "0           1.1          93.994          -36.4      4.857       5191.0  no  \n",
       "1           1.1          93.994          -36.4      4.857       5191.0  no  \n",
       "2           1.1          93.994          -36.4      4.857       5191.0  no  \n",
       "3           1.1          93.994          -36.4      4.857       5191.0  no  \n",
       "4           1.1          93.994          -36.4      4.857       5191.0  no  "
      ]
     },
     "execution_count": 31,
     "metadata": {},
     "output_type": "execute_result"
    }
   ],
   "source": [
    "df.head()"
   ]
  },
  {
   "cell_type": "markdown",
   "metadata": {},
   "source": [
    "**Если обратить внимание на последний столбец, то можно увидеть, что он называется 'y' и содержит значения: 'no', 'yes'. Закодируем отдельно целевую переменную 1- 'yes', 0 - 'no'.**"
   ]
  },
  {
   "cell_type": "code",
   "execution_count": 32,
   "metadata": {},
   "outputs": [
    {
     "data": {
      "text/plain": [
       "array(['no', 'yes'], dtype=object)"
      ]
     },
     "execution_count": 32,
     "metadata": {},
     "output_type": "execute_result"
    }
   ],
   "source": [
    "df['y'].unique()"
   ]
  },
  {
   "cell_type": "code",
   "execution_count": 33,
   "metadata": {},
   "outputs": [],
   "source": [
    "df.loc[df['y'] == 'yes', 'y'] = 0\n",
    "df.loc[df['y'] == 'no', 'y'] = 1"
   ]
  },
  {
   "cell_type": "code",
   "execution_count": 34,
   "metadata": {
    "scrolled": true
   },
   "outputs": [
    {
     "data": {
      "text/html": [
       "<div>\n",
       "<style scoped>\n",
       "    .dataframe tbody tr th:only-of-type {\n",
       "        vertical-align: middle;\n",
       "    }\n",
       "\n",
       "    .dataframe tbody tr th {\n",
       "        vertical-align: top;\n",
       "    }\n",
       "\n",
       "    .dataframe thead th {\n",
       "        text-align: right;\n",
       "    }\n",
       "</style>\n",
       "<table border=\"1\" class=\"dataframe\">\n",
       "  <thead>\n",
       "    <tr style=\"text-align: right;\">\n",
       "      <th></th>\n",
       "      <th>age</th>\n",
       "      <th>job</th>\n",
       "      <th>marital</th>\n",
       "      <th>education</th>\n",
       "      <th>default</th>\n",
       "      <th>housing</th>\n",
       "      <th>loan</th>\n",
       "      <th>contact</th>\n",
       "      <th>month</th>\n",
       "      <th>day_of_week</th>\n",
       "      <th>duration</th>\n",
       "      <th>campaign</th>\n",
       "      <th>pdays</th>\n",
       "      <th>previous</th>\n",
       "      <th>poutcome</th>\n",
       "      <th>emp.var.rate</th>\n",
       "      <th>cons.price.idx</th>\n",
       "      <th>cons.conf.idx</th>\n",
       "      <th>euribor3m</th>\n",
       "      <th>nr.employed</th>\n",
       "      <th>y</th>\n",
       "    </tr>\n",
       "  </thead>\n",
       "  <tbody>\n",
       "    <tr>\n",
       "      <th>0</th>\n",
       "      <td>56</td>\n",
       "      <td>housemaid</td>\n",
       "      <td>married</td>\n",
       "      <td>basic.4y</td>\n",
       "      <td>no</td>\n",
       "      <td>no</td>\n",
       "      <td>no</td>\n",
       "      <td>telephone</td>\n",
       "      <td>may</td>\n",
       "      <td>mon</td>\n",
       "      <td>261</td>\n",
       "      <td>1</td>\n",
       "      <td>999</td>\n",
       "      <td>0</td>\n",
       "      <td>nonexistent</td>\n",
       "      <td>1.1</td>\n",
       "      <td>93.994</td>\n",
       "      <td>-36.4</td>\n",
       "      <td>4.857</td>\n",
       "      <td>5191.0</td>\n",
       "      <td>1</td>\n",
       "    </tr>\n",
       "    <tr>\n",
       "      <th>1</th>\n",
       "      <td>57</td>\n",
       "      <td>services</td>\n",
       "      <td>married</td>\n",
       "      <td>high.school</td>\n",
       "      <td>unknown</td>\n",
       "      <td>no</td>\n",
       "      <td>no</td>\n",
       "      <td>telephone</td>\n",
       "      <td>may</td>\n",
       "      <td>mon</td>\n",
       "      <td>149</td>\n",
       "      <td>1</td>\n",
       "      <td>999</td>\n",
       "      <td>0</td>\n",
       "      <td>nonexistent</td>\n",
       "      <td>1.1</td>\n",
       "      <td>93.994</td>\n",
       "      <td>-36.4</td>\n",
       "      <td>4.857</td>\n",
       "      <td>5191.0</td>\n",
       "      <td>1</td>\n",
       "    </tr>\n",
       "    <tr>\n",
       "      <th>2</th>\n",
       "      <td>37</td>\n",
       "      <td>services</td>\n",
       "      <td>married</td>\n",
       "      <td>high.school</td>\n",
       "      <td>no</td>\n",
       "      <td>yes</td>\n",
       "      <td>no</td>\n",
       "      <td>telephone</td>\n",
       "      <td>may</td>\n",
       "      <td>mon</td>\n",
       "      <td>226</td>\n",
       "      <td>1</td>\n",
       "      <td>999</td>\n",
       "      <td>0</td>\n",
       "      <td>nonexistent</td>\n",
       "      <td>1.1</td>\n",
       "      <td>93.994</td>\n",
       "      <td>-36.4</td>\n",
       "      <td>4.857</td>\n",
       "      <td>5191.0</td>\n",
       "      <td>1</td>\n",
       "    </tr>\n",
       "    <tr>\n",
       "      <th>3</th>\n",
       "      <td>40</td>\n",
       "      <td>admin.</td>\n",
       "      <td>married</td>\n",
       "      <td>basic.6y</td>\n",
       "      <td>no</td>\n",
       "      <td>no</td>\n",
       "      <td>no</td>\n",
       "      <td>telephone</td>\n",
       "      <td>may</td>\n",
       "      <td>mon</td>\n",
       "      <td>151</td>\n",
       "      <td>1</td>\n",
       "      <td>999</td>\n",
       "      <td>0</td>\n",
       "      <td>nonexistent</td>\n",
       "      <td>1.1</td>\n",
       "      <td>93.994</td>\n",
       "      <td>-36.4</td>\n",
       "      <td>4.857</td>\n",
       "      <td>5191.0</td>\n",
       "      <td>1</td>\n",
       "    </tr>\n",
       "    <tr>\n",
       "      <th>4</th>\n",
       "      <td>56</td>\n",
       "      <td>services</td>\n",
       "      <td>married</td>\n",
       "      <td>high.school</td>\n",
       "      <td>no</td>\n",
       "      <td>no</td>\n",
       "      <td>yes</td>\n",
       "      <td>telephone</td>\n",
       "      <td>may</td>\n",
       "      <td>mon</td>\n",
       "      <td>307</td>\n",
       "      <td>1</td>\n",
       "      <td>999</td>\n",
       "      <td>0</td>\n",
       "      <td>nonexistent</td>\n",
       "      <td>1.1</td>\n",
       "      <td>93.994</td>\n",
       "      <td>-36.4</td>\n",
       "      <td>4.857</td>\n",
       "      <td>5191.0</td>\n",
       "      <td>1</td>\n",
       "    </tr>\n",
       "  </tbody>\n",
       "</table>\n",
       "</div>"
      ],
      "text/plain": [
       "   age        job  marital    education  default housing loan    contact  \\\n",
       "0   56  housemaid  married     basic.4y       no      no   no  telephone   \n",
       "1   57   services  married  high.school  unknown      no   no  telephone   \n",
       "2   37   services  married  high.school       no     yes   no  telephone   \n",
       "3   40     admin.  married     basic.6y       no      no   no  telephone   \n",
       "4   56   services  married  high.school       no      no  yes  telephone   \n",
       "\n",
       "  month day_of_week  duration  campaign  pdays  previous     poutcome  \\\n",
       "0   may         mon       261         1    999         0  nonexistent   \n",
       "1   may         mon       149         1    999         0  nonexistent   \n",
       "2   may         mon       226         1    999         0  nonexistent   \n",
       "3   may         mon       151         1    999         0  nonexistent   \n",
       "4   may         mon       307         1    999         0  nonexistent   \n",
       "\n",
       "   emp.var.rate  cons.price.idx  cons.conf.idx  euribor3m  nr.employed  y  \n",
       "0           1.1          93.994          -36.4      4.857       5191.0  1  \n",
       "1           1.1          93.994          -36.4      4.857       5191.0  1  \n",
       "2           1.1          93.994          -36.4      4.857       5191.0  1  \n",
       "3           1.1          93.994          -36.4      4.857       5191.0  1  \n",
       "4           1.1          93.994          -36.4      4.857       5191.0  1  "
      ]
     },
     "execution_count": 34,
     "metadata": {},
     "output_type": "execute_result"
    }
   ],
   "source": [
    "df.head()"
   ]
  },
  {
   "cell_type": "markdown",
   "metadata": {},
   "source": [
    "**В описании даных можно найти следующее: 'duration' сильно влияет на цель вывода. Тем не менее, продолжительность вызова до выполнения вызова неизвестна. Кроме того, после окончания звонка, очевидно, известно y. Таким образом, эти входные данные следует включать только для целей эталонного тестирования и от них следует отказаться, если предполагается получить реалистичную прогностическую модель.**"
   ]
  },
  {
   "cell_type": "code",
   "execution_count": 35,
   "metadata": {},
   "outputs": [],
   "source": [
    "df.drop(columns='duration', inplace=True)"
   ]
  },
  {
   "cell_type": "markdown",
   "metadata": {},
   "source": [
    "🛑 **Разделим выборку перед обучением, после кодирования** 🛑"
   ]
  },
  {
   "cell_type": "markdown",
   "metadata": {},
   "source": [
    "РАССУЖДЕНИЯ\n",
    "\n",
    "**Наша задача состоит в том, чтобы привлечь как можно больше клиентов, то есть мы должны больше думать о том, как бы не пропустить положительный объект. Выбираем AUC-PR, так как PR AUC смотрит на положительную прогностическую ценность и истинно положительный показатель. А вот AUC-ROC, например, смотрит на истинно положительный уровень TPR и ложноположительный уровень FPR.**"
   ]
  },
  {
   "cell_type": "markdown",
   "metadata": {},
   "source": [
    "### Разделим признаки на категориальные и вещественные"
   ]
  },
  {
   "cell_type": "code",
   "execution_count": 36,
   "metadata": {},
   "outputs": [],
   "source": [
    "cat = ['job', 'marital', 'education', 'default', 'housing',\n",
    "            'loan', 'contact', 'month', 'day_of_week', 'poutcome']\n",
    "\n",
    "num = ['age', 'campaign', 'pdays', 'previous', 'emp.var.rate',\n",
    "          'cons.conf.idx', 'cons.price.idx', 'euribor3m', 'nr.employed']"
   ]
  },
  {
   "cell_type": "markdown",
   "metadata": {},
   "source": [
    "### Подготовка к обучению модели"
   ]
  },
  {
   "cell_type": "code",
   "execution_count": 37,
   "metadata": {},
   "outputs": [],
   "source": [
    "from sklearn.compose import ColumnTransformer\n",
    "from sklearn.pipeline import Pipeline"
   ]
  },
  {
   "cell_type": "code",
   "execution_count": 38,
   "metadata": {},
   "outputs": [],
   "source": [
    "#для кодирования категориальных признаков используем OrdinalEncoder\n",
    "enc = OrdinalEncoder()"
   ]
  },
  {
   "cell_type": "code",
   "execution_count": 39,
   "metadata": {},
   "outputs": [],
   "source": [
    "#вещественные признаки также отмасштабируем\n",
    "date = ColumnTransformer([\n",
    "                     ('cat', enc, cat),\n",
    "                     ('num', StandardScaler(), num)\n",
    "                     ])\n",
    "\n",
    "\n",
    "#создадим пайплайн с LogisticRegression регрессией и кодировщиком данных \n",
    "clf = Pipeline(steps=[\n",
    "                   ('enc_and_st_scaler', date),\n",
    "                   ('classifier', LogisticRegression())\n",
    "                   ])"
   ]
  },
  {
   "cell_type": "markdown",
   "metadata": {},
   "source": [
    "### Переходим к обучению "
   ]
  },
  {
   "cell_type": "code",
   "execution_count": 40,
   "metadata": {},
   "outputs": [],
   "source": [
    "#разделим выборку\n",
    "X_train, X_test, y_train, y_test = train_test_split(df.drop(columns = 'y'), \n",
    "                                                    df['y'], test_size=0.3, random_state=777, stratify = df['y'])\n",
    "\n",
    "y_train = y_train.astype('int')\n",
    "y_test = y_test.astype('int')"
   ]
  },
  {
   "cell_type": "code",
   "execution_count": 41,
   "metadata": {},
   "outputs": [
    {
     "name": "stdout",
     "output_type": "stream",
     "text": [
      "Время на обучение модели при OrdinalEncoder: 0.4340336322784424\n",
      "AUC-PR при OrdinalEncoder = 0.95330\n",
      "Кол-во столбцов  19\n"
     ]
    }
   ],
   "source": [
    "start_time = time.time()\n",
    "model = clf.fit(X_train, y_train)\n",
    "y_pred = model.predict(X_test)\n",
    "\n",
    "print('Время на обучение модели при OrdinalEncoder:', time.time() - start_time)\n",
    "print(\"AUC-PR при OrdinalEncoder = %.5f\" % auc_pr(y_test, y_pred))\n",
    "print('Кол-во столбцов ', date.fit_transform(X_train).shape[1])"
   ]
  },
  {
   "cell_type": "markdown",
   "metadata": {},
   "source": [
    "- Закодируем все категориальные признаки с помощью one-hot-кодирования. \n",
    "- Обучим логистическую регрессию и посмотрим на измениния в качестве модели. \n",
    "- Измерим время, потребовавшееся на кодирование категориальных признаков и обучение модели."
   ]
  },
  {
   "cell_type": "code",
   "execution_count": 42,
   "metadata": {},
   "outputs": [],
   "source": [
    "#для кодирования категориальных признаков используем OneHotEncoder\n",
    "enc = OneHotEncoder(handle_unknown=\"ignore\")\n",
    "\n",
    "#вещественные признаки также отмасштабируем\n",
    "date = ColumnTransformer([\n",
    "                     ('cat', enc, cat),\n",
    "                     ('num', StandardScaler(), num)\n",
    "                     ])\n",
    "\n",
    "\n",
    "#создадим пайплайн с LogisticRegression регрессией и кодировщиком данных \n",
    "clf = Pipeline(steps=[\n",
    "                   ('enc_and_st_scaler', date),\n",
    "                   ('classifier', LogisticRegression())\n",
    "                   ])"
   ]
  },
  {
   "cell_type": "code",
   "execution_count": 43,
   "metadata": {},
   "outputs": [
    {
     "name": "stdout",
     "output_type": "stream",
     "text": [
      "Время на обучение модели: 0.7325587272644043\n",
      "AUC-PR при OneHotEncoder = 0.95339\n",
      "Кол-во столбцов  62\n"
     ]
    }
   ],
   "source": [
    "start_time = time.time()\n",
    "model = clf.fit(X_train, y_train)\n",
    "y_pred = model.predict(X_test)\n",
    "\n",
    "print('Время на обучение модели:', time.time() - start_time)\n",
    "print(\"AUC-PR при OneHotEncoder = %.5f\" %  auc_pr(y_test, y_pred))\n",
    "print('Кол-во столбцов ', date.fit_transform(X_train).shape[1])"
   ]
  },
  {
   "cell_type": "markdown",
   "metadata": {},
   "source": [
    "### Сравнение OrdinalEncoder и OneHotEncoder\n",
    "\n",
    "- OneHotEncoder работал почти в два раза дольше по времени \n",
    "- По качеству почти одинаково (ohe на 0, 00009 лучше)"
   ]
  },
  {
   "cell_type": "markdown",
   "metadata": {},
   "source": [
    "### mean-target encoding \n",
    "\n",
    "\n",
    "Основная идея в том, что нам важны не сами категории, а значения целевой переменной, которые имеют объекты этой категории. Каждый категориальный признак мы заменим средним значением целевой переменной по всем объектам этой же категории:\n",
    "$$\n",
    "g_j(x, X) = \\frac{\\sum_{i=1}^{l} [f_j(x) = f_j(x_i)][y_i = +1]}{\\sum_{i=1}^{l} [f_j(x) = f_j(x_i)]}\n",
    "$$\n",
    "\n",
    "- Закодируем категориальные переменные с помощью счётчиков \n",
    "- Обучим логистическую регрессию и посмотрим на качество модели на тестовом множестве\n",
    "- Сравним время обучения с предыдущими экспериментами"
   ]
  },
  {
   "cell_type": "code",
   "execution_count": 44,
   "metadata": {},
   "outputs": [],
   "source": [
    "#вещественные признаки также отмасштабируем, категориальные отмасштабируем отдельно\n",
    "date = ColumnTransformer([\n",
    "                     ('cat', 'passthrough', cat),\n",
    "                     ('num', StandardScaler(), num)\n",
    "                     ])\n",
    "\n",
    "\n",
    "#создадим пайплайн с LogisticRegression регрессией и кодировщиком данных \n",
    "clf = Pipeline(steps=[\n",
    "                   ('enc_and_st_scaler', date),\n",
    "                   ('classifier', LogisticRegression())\n",
    "                   ])"
   ]
  },
  {
   "cell_type": "markdown",
   "metadata": {},
   "source": [
    "### Кодирование категориальных, обучение модели и тестирование"
   ]
  },
  {
   "cell_type": "code",
   "execution_count": 45,
   "metadata": {},
   "outputs": [
    {
     "name": "stdout",
     "output_type": "stream",
     "text": [
      "Время на обучение модели: 1.2769110202789307\n",
      "AUC-PR при mean-target encoding = 0.95312\n",
      "Кол-во столбцов  19\n"
     ]
    }
   ],
   "source": [
    "start_time = time.time()\n",
    "\n",
    "#переходим к кодированию. Будем идти по каждому из столбцов внутри каждой категории.\n",
    "for col in cat:\n",
    "    for categ in list(pd.unique(X_train[col])):\n",
    "        #используем формулу\n",
    "        g_train = X_train[(X_train[col] == categ) & (y_train == 1)].shape[0] / X_train[X_train[col] == categ].shape[0]\n",
    "        X_train.loc[X_train[col] == categ, col] = g_train\n",
    "        \n",
    "        \n",
    "        g_test = X_test[(X_test[col] == categ) & (y_test == 1)].shape[0] / X_test[X_test[col] == categ].shape[0]\n",
    "        X_test.loc[X_test[col] == categ, col] = g_test \n",
    "\n",
    "#обучение, тестировние        \n",
    "model = clf.fit(X_train, y_train)\n",
    "y_pred = model.predict(X_test)\n",
    "\n",
    "print('Время на обучение модели:', time.time() - start_time)\n",
    "print(\"AUC-PR при mean-target encoding = %.5f\" %  auc_pr(y_test, y_pred))\n",
    "print('Кол-во столбцов ', X_train.shape[1])"
   ]
  },
  {
   "cell_type": "markdown",
   "metadata": {},
   "source": [
    "- Дольше по времени \n",
    "- Чуть хуже по качеству по сравнению с OneHotEncoder и OrdinalEncoder"
   ]
  },
  {
   "cell_type": "markdown",
   "metadata": {},
   "source": [
    "### Реализуем корректное вычисление счётчиков с добавлением шума к значениям "
   ]
  },
  {
   "cell_type": "code",
   "execution_count": 46,
   "metadata": {},
   "outputs": [
    {
     "name": "stdout",
     "output_type": "stream",
     "text": [
      "Время на обучение модели: 0.5270411968231201\n",
      "AUC-PR при mean-target encoding и шуме= 0.95217\n",
      "Кол-во столбцов  19\n"
     ]
    }
   ],
   "source": [
    "start_time = time.time()\n",
    "for col in cat:\n",
    "    #добавим шума к категориальным признакам\n",
    "    X_train[col] += np.random.rand(X_train.shape[0]) * np.sign(np.random.rand(X_train.shape[0]) - 0.5) / 10\n",
    "    X_test[col] += np.random.rand(X_test.shape[0]) * np.sign(np.random.rand(X_test.shape[0]) - 0.5) / 10\n",
    "\n",
    "clf = LogisticRegression()\n",
    "model = clf.fit(X_train, y_train)\n",
    "y_pred = model.predict(X_test)\n",
    "\n",
    "print('Время на обучение модели:', time.time() - start_time)\n",
    "print(\"AUC-PR при mean-target encoding и шуме= %.5f\" %  auc_pr(y_test, y_pred))\n",
    "print('Кол-во столбцов ', X_train.shape[1])"
   ]
  },
  {
   "cell_type": "markdown",
   "metadata": {},
   "source": [
    "- Качество упало, но не критично\n",
    "- Про время тут говорить странно, так как некоторые данные пришли к нам из предыдущего задания. "
   ]
  },
  {
   "cell_type": "markdown",
   "metadata": {},
   "source": [
    "Некоторая категория может встречается в выборке всего несколько раз. По этой причине производится сглаживание счётчиков:\n",
    "$$\n",
    "g_j(x, X) = \\frac{\\sum_{i=1}^{\\ell} [f_j(x) = f_j(x_i)][y_i = +1] + C \\times global\\_mean}{\\sum_{i=1}^{\\ell} [f_j(x) = f_j(x_i)] + C}\n",
    "$$\n",
    "где $global\\_mean$ — доля объектов положительного класса в выборке, $C$ — параметр, определяющий степень сглаживания. Основная идея в том, что мы \"разбавляем\" среднее значение по некоторой категории глобальным средним значением. И тем меньше, чем большее количество объектов этой категории встречается в выборке. "
   ]
  },
  {
   "cell_type": "markdown",
   "metadata": {},
   "source": [
    "Добавим сглаживание, описанное выше и повторим эксперименты."
   ]
  },
  {
   "cell_type": "code",
   "execution_count": 48,
   "metadata": {},
   "outputs": [],
   "source": [
    "#разделим выборку\n",
    "X_train, X_test, y_train, y_test = train_test_split(df.drop(columns = 'y'), \n",
    "                                                    df['y'], test_size=0.3, random_state=777, stratify = df['y'])\n",
    "\n",
    "y_train = y_train.astype('int')\n",
    "y_test = y_test.astype('int')"
   ]
  },
  {
   "cell_type": "code",
   "execution_count": 49,
   "metadata": {},
   "outputs": [],
   "source": [
    "#вещественные признаки также отмасштабируем, категориальные отмасштабируем отдельно\n",
    "date = ColumnTransformer([\n",
    "                     ('cat', 'passthrough', cat),\n",
    "                     ('num', StandardScaler(), num)\n",
    "                     ])\n",
    "\n",
    "\n",
    "#создадим пайплайн с LogisticRegression регрессией и кодировщиком данных \n",
    "clf = Pipeline(steps=[\n",
    "                   ('enc_and_st_scaler', date),\n",
    "                   ('classifier', LogisticRegression())\n",
    "                   ])"
   ]
  },
  {
   "cell_type": "code",
   "execution_count": 50,
   "metadata": {},
   "outputs": [
    {
     "name": "stdout",
     "output_type": "stream",
     "text": [
      "Время на обучение модели: 1.3323535919189453\n",
      "AUC-PR при global mean = 0.95536\n"
     ]
    }
   ],
   "source": [
    "start_time = time.time()\n",
    "\n",
    "#параметр определяющий степень сглаживания\n",
    "C = 100\n",
    "\n",
    "for col in cat:\n",
    "    for categ in list(pd.unique(X_train[col])):\n",
    "        g_new = X_train[(X_train[col] == categ) & (y_train == 1)].shape[0]\n",
    "        #добавляем долю объектов положительного класса\n",
    "        g_new += C * (y_train[y_train == 1].shape[0] / X_train.shape[0])\n",
    "        g_new /= X_train[X_train[col] == categ].shape[0] + C\n",
    "        X_train.loc[X_train[col] == categ, col] = g_new\n",
    "\n",
    "        g_new_test = X_test[(X_test[col] == categ) & (y_test == 1)].shape[0]\n",
    "        #добавляем долю объектов положительного класса\n",
    "        g_new_test += C * (y_test[y_test == 1].shape[0] / y_train.shape[0])\n",
    "        g_new_test /= C + X_test[X_test[col] == categ].shape[0]\n",
    "        X_test.loc[X_test[col] == categ, col] = g_new_test \n",
    "        \n",
    "model = clf.fit(X_train, y_train)\n",
    "y_pred = model.predict(X_test)\n",
    "\n",
    "print('Время на обучение модели:', time.time() - start_time)\n",
    "print(\"AUC-PR при global mean = %.5f\" %  auc_pr(y_test, y_pred))"
   ]
  },
  {
   "cell_type": "markdown",
   "metadata": {},
   "source": [
    "- **При использовании сглаживания средним по всей выборке качетсво модели выросло, кажется, что в данных действительно встречались редкие категории**"
   ]
  },
  {
   "cell_type": "markdown",
   "metadata": {},
   "source": [
    "В данных имеется признак \"возраст клиента\". Сейчас мы интерпретируем его как числовой, что в общем случае для линейной модели может быть неверной гипотезой. Тем не менее, у этого признака есть довольно много уникальных значений, поэтому применять к нему one-hot кодирование может оказаться излишним. Попробуем закодировать возраст с помощью счетчиков. "
   ]
  },
  {
   "cell_type": "code",
   "execution_count": 51,
   "metadata": {},
   "outputs": [],
   "source": [
    "#разделим выборку\n",
    "X_train, X_test, y_train, y_test = train_test_split(df.drop(columns = 'y'), \n",
    "                                                    df['y'], test_size=0.3, random_state=777, stratify = df['y'])\n",
    "\n",
    "y_train = y_train.astype('int')\n",
    "y_test = y_test.astype('int')"
   ]
  },
  {
   "cell_type": "code",
   "execution_count": 52,
   "metadata": {},
   "outputs": [
    {
     "name": "stdout",
     "output_type": "stream",
     "text": [
      "Кол-во уникальных возрастов 78\n"
     ]
    }
   ],
   "source": [
    "print('Кол-во уникальных возрастов', len(list(pd.unique(df['age']))))"
   ]
  },
  {
   "cell_type": "code",
   "execution_count": 53,
   "metadata": {},
   "outputs": [],
   "source": [
    "#теперь возраст категориальная переменная\n",
    "cat = ['job', 'marital', 'education', 'default', 'housing',\n",
    "            'loan', 'contact', 'month', 'day_of_week', 'poutcome', 'age']\n",
    "\n",
    "num = ['campaign', 'pdays', 'previous', 'emp.var.rate',\n",
    "          'cons.conf.idx', 'cons.price.idx', 'euribor3m', 'nr.employed']"
   ]
  },
  {
   "cell_type": "code",
   "execution_count": 54,
   "metadata": {},
   "outputs": [
    {
     "name": "stdout",
     "output_type": "stream",
     "text": [
      "Время на обучение модели: 1.9548194408416748\n",
      "AUC-PR при global mean = 0.96042\n"
     ]
    }
   ],
   "source": [
    "start_time = time.time()\n",
    "\n",
    "#параметр определяющий степень сглаживания\n",
    "C = 100\n",
    "\n",
    "for col in cat:\n",
    "    for categ in list(pd.unique(X_train[col])):\n",
    "        g_new = X_train[(X_train[col] == categ) & (y_train == 1)].shape[0]\n",
    "        #добавляем долю объектов положительного класса\n",
    "        g_new += C * (y_train[y_train == 1].shape[0] / X_train.shape[0])\n",
    "        g_new /= X_train[X_train[col] == categ].shape[0] + C\n",
    "        X_train.loc[X_train[col] == categ, col] = g_new\n",
    "\n",
    "        g_new_test = X_test[(X_test[col] == categ) & (y_test == 1)].shape[0]\n",
    "        #добавляем долю объектов положительного класса\n",
    "        g_new_test += C * (y_test[y_test == 1].shape[0] / y_train.shape[0])\n",
    "        g_new_test /= C + X_test[X_test[col] == categ].shape[0]\n",
    "        X_test.loc[X_test[col] == categ, col] = g_new_test \n",
    "        \n",
    "model = clf.fit(X_train, y_train)\n",
    "y_pred = model.predict(X_test)\n",
    "\n",
    "print('Время на обучение модели:', time.time() - start_time)\n",
    "print(\"AUC-PR при global mean = %.5f\" %  auc_pr(y_test, y_pred))"
   ]
  },
  {
   "cell_type": "markdown",
   "metadata": {},
   "source": [
    "- **Стало значительно лучше)**\n",
    "- Чуть чуть затратнее по времени"
   ]
  },
  {
   "cell_type": "markdown",
   "metadata": {},
   "source": [
    "**Плюсы счетчиков:**\n",
    "- Улучшают качетство модели)\n",
    "- Экономят память (кол-во признаков не изменяется)\n",
    "\n",
    "**Минусы счетчиков:**\n",
    "- Хорошо работают, только когда в признаках есть редкие категории\n",
    "- Нужно писать вручную (да, возможно в какой-то библиотеке они есть)\n",
    "- Затратные по времени (у меня получилось что ohe работал быстрее)"
   ]
  },
  {
   "cell_type": "markdown",
   "metadata": {},
   "source": [
    "# Работа с признаками. Отбор."
   ]
  },
  {
   "cell_type": "code",
   "execution_count": 59,
   "metadata": {},
   "outputs": [],
   "source": [
    "df = pd.read_csv('bank-additional-full.csv', sep=';')\n",
    "\n",
    "#удалили целевой столбец и неинформативный признак\n",
    "X = df.drop(columns=['duration', 'y'])\n",
    "\n",
    "#обработали столбец таргета\n",
    "df.loc[df['y'] == 'yes', 'y'] = 0\n",
    "df.loc[df['y'] == 'no', 'y'] = 1\n",
    "y = df['y']\n",
    "\n",
    "#разделили выборку на обучающую и тестовую\n",
    "X_train, X_test, y_train, y_test = train_test_split(X, y, test_size=0.3, random_state=777, stratify=y)\n",
    "\n",
    "y_train = y_train.astype('int')\n",
    "y_test = y_test.astype('int')"
   ]
  },
  {
   "cell_type": "markdown",
   "metadata": {},
   "source": [
    "### Вспомним как были разделены признаки (на вещественные и категориальные)"
   ]
  },
  {
   "cell_type": "code",
   "execution_count": 60,
   "metadata": {},
   "outputs": [],
   "source": [
    "cat = ['job', 'marital', 'education', 'default', 'housing',\n",
    "            'loan', 'contact', 'month', 'day_of_week', 'poutcome']\n",
    "\n",
    "num = ['age', 'campaign', 'pdays', 'previous', 'emp.var.rate',\n",
    "          'cons.conf.idx', 'cons.price.idx', 'euribor3m', 'nr.employed']"
   ]
  },
  {
   "cell_type": "markdown",
   "metadata": {},
   "source": [
    "### Закодируем категориальрные признаки с помощью one-hot кодирования\n",
    "\n",
    "**Будем использовать метод get_dummies**"
   ]
  },
  {
   "cell_type": "code",
   "execution_count": 61,
   "metadata": {},
   "outputs": [],
   "source": [
    "#для красивого вывода названий столбцов\n",
    "cat_mask = X_train.select_dtypes(include=['object']).columns\n",
    "cat_mask = X_test.select_dtypes(include=['object']).columns\n",
    "\n",
    "#drop_first = True даст k-1 столбцов для столбца с k категориями -> избежим попадения в дамми-трэп\n",
    "X_train = pd.get_dummies(X_train, columns = cat_mask, drop_first=True)\n",
    "X_test = pd.get_dummies(X_test, columns = cat_mask, drop_first=True)"
   ]
  },
  {
   "cell_type": "code",
   "execution_count": 62,
   "metadata": {},
   "outputs": [
    {
     "data": {
      "text/html": [
       "<div>\n",
       "<style scoped>\n",
       "    .dataframe tbody tr th:only-of-type {\n",
       "        vertical-align: middle;\n",
       "    }\n",
       "\n",
       "    .dataframe tbody tr th {\n",
       "        vertical-align: top;\n",
       "    }\n",
       "\n",
       "    .dataframe thead th {\n",
       "        text-align: right;\n",
       "    }\n",
       "</style>\n",
       "<table border=\"1\" class=\"dataframe\">\n",
       "  <thead>\n",
       "    <tr style=\"text-align: right;\">\n",
       "      <th></th>\n",
       "      <th>age</th>\n",
       "      <th>campaign</th>\n",
       "      <th>pdays</th>\n",
       "      <th>previous</th>\n",
       "      <th>emp.var.rate</th>\n",
       "      <th>cons.price.idx</th>\n",
       "      <th>cons.conf.idx</th>\n",
       "      <th>euribor3m</th>\n",
       "      <th>nr.employed</th>\n",
       "      <th>job_blue-collar</th>\n",
       "      <th>job_entrepreneur</th>\n",
       "      <th>job_housemaid</th>\n",
       "      <th>job_management</th>\n",
       "      <th>job_retired</th>\n",
       "      <th>job_self-employed</th>\n",
       "      <th>job_services</th>\n",
       "      <th>job_student</th>\n",
       "      <th>job_technician</th>\n",
       "      <th>job_unemployed</th>\n",
       "      <th>job_unknown</th>\n",
       "      <th>marital_married</th>\n",
       "      <th>marital_single</th>\n",
       "      <th>marital_unknown</th>\n",
       "      <th>education_basic.6y</th>\n",
       "      <th>education_basic.9y</th>\n",
       "      <th>education_high.school</th>\n",
       "      <th>education_illiterate</th>\n",
       "      <th>education_professional.course</th>\n",
       "      <th>education_university.degree</th>\n",
       "      <th>education_unknown</th>\n",
       "      <th>default_unknown</th>\n",
       "      <th>default_yes</th>\n",
       "      <th>housing_unknown</th>\n",
       "      <th>housing_yes</th>\n",
       "      <th>loan_unknown</th>\n",
       "      <th>loan_yes</th>\n",
       "      <th>contact_telephone</th>\n",
       "      <th>month_aug</th>\n",
       "      <th>month_dec</th>\n",
       "      <th>month_jul</th>\n",
       "      <th>month_jun</th>\n",
       "      <th>month_mar</th>\n",
       "      <th>month_may</th>\n",
       "      <th>month_nov</th>\n",
       "      <th>month_oct</th>\n",
       "      <th>month_sep</th>\n",
       "      <th>day_of_week_mon</th>\n",
       "      <th>day_of_week_thu</th>\n",
       "      <th>day_of_week_tue</th>\n",
       "      <th>day_of_week_wed</th>\n",
       "      <th>poutcome_nonexistent</th>\n",
       "      <th>poutcome_success</th>\n",
       "    </tr>\n",
       "  </thead>\n",
       "  <tbody>\n",
       "    <tr>\n",
       "      <th>38757</th>\n",
       "      <td>37</td>\n",
       "      <td>1</td>\n",
       "      <td>999</td>\n",
       "      <td>0</td>\n",
       "      <td>-3.4</td>\n",
       "      <td>92.649</td>\n",
       "      <td>-30.1</td>\n",
       "      <td>0.715</td>\n",
       "      <td>5017.5</td>\n",
       "      <td>0</td>\n",
       "      <td>0</td>\n",
       "      <td>0</td>\n",
       "      <td>0</td>\n",
       "      <td>0</td>\n",
       "      <td>0</td>\n",
       "      <td>0</td>\n",
       "      <td>0</td>\n",
       "      <td>0</td>\n",
       "      <td>0</td>\n",
       "      <td>0</td>\n",
       "      <td>0</td>\n",
       "      <td>1</td>\n",
       "      <td>0</td>\n",
       "      <td>0</td>\n",
       "      <td>0</td>\n",
       "      <td>1</td>\n",
       "      <td>0</td>\n",
       "      <td>0</td>\n",
       "      <td>0</td>\n",
       "      <td>0</td>\n",
       "      <td>0</td>\n",
       "      <td>0</td>\n",
       "      <td>0</td>\n",
       "      <td>0</td>\n",
       "      <td>0</td>\n",
       "      <td>1</td>\n",
       "      <td>0</td>\n",
       "      <td>0</td>\n",
       "      <td>0</td>\n",
       "      <td>0</td>\n",
       "      <td>0</td>\n",
       "      <td>0</td>\n",
       "      <td>0</td>\n",
       "      <td>1</td>\n",
       "      <td>0</td>\n",
       "      <td>0</td>\n",
       "      <td>0</td>\n",
       "      <td>0</td>\n",
       "      <td>0</td>\n",
       "      <td>1</td>\n",
       "      <td>1</td>\n",
       "      <td>0</td>\n",
       "    </tr>\n",
       "    <tr>\n",
       "      <th>40369</th>\n",
       "      <td>30</td>\n",
       "      <td>1</td>\n",
       "      <td>999</td>\n",
       "      <td>1</td>\n",
       "      <td>-1.7</td>\n",
       "      <td>94.027</td>\n",
       "      <td>-38.3</td>\n",
       "      <td>0.900</td>\n",
       "      <td>4991.6</td>\n",
       "      <td>0</td>\n",
       "      <td>0</td>\n",
       "      <td>0</td>\n",
       "      <td>0</td>\n",
       "      <td>0</td>\n",
       "      <td>0</td>\n",
       "      <td>0</td>\n",
       "      <td>0</td>\n",
       "      <td>0</td>\n",
       "      <td>0</td>\n",
       "      <td>0</td>\n",
       "      <td>0</td>\n",
       "      <td>1</td>\n",
       "      <td>0</td>\n",
       "      <td>0</td>\n",
       "      <td>0</td>\n",
       "      <td>0</td>\n",
       "      <td>0</td>\n",
       "      <td>0</td>\n",
       "      <td>1</td>\n",
       "      <td>0</td>\n",
       "      <td>0</td>\n",
       "      <td>0</td>\n",
       "      <td>0</td>\n",
       "      <td>0</td>\n",
       "      <td>0</td>\n",
       "      <td>0</td>\n",
       "      <td>1</td>\n",
       "      <td>1</td>\n",
       "      <td>0</td>\n",
       "      <td>0</td>\n",
       "      <td>0</td>\n",
       "      <td>0</td>\n",
       "      <td>0</td>\n",
       "      <td>0</td>\n",
       "      <td>0</td>\n",
       "      <td>0</td>\n",
       "      <td>0</td>\n",
       "      <td>0</td>\n",
       "      <td>0</td>\n",
       "      <td>1</td>\n",
       "      <td>0</td>\n",
       "      <td>0</td>\n",
       "    </tr>\n",
       "    <tr>\n",
       "      <th>27545</th>\n",
       "      <td>57</td>\n",
       "      <td>2</td>\n",
       "      <td>999</td>\n",
       "      <td>0</td>\n",
       "      <td>-0.1</td>\n",
       "      <td>93.200</td>\n",
       "      <td>-42.0</td>\n",
       "      <td>4.021</td>\n",
       "      <td>5195.8</td>\n",
       "      <td>1</td>\n",
       "      <td>0</td>\n",
       "      <td>0</td>\n",
       "      <td>0</td>\n",
       "      <td>0</td>\n",
       "      <td>0</td>\n",
       "      <td>0</td>\n",
       "      <td>0</td>\n",
       "      <td>0</td>\n",
       "      <td>0</td>\n",
       "      <td>0</td>\n",
       "      <td>1</td>\n",
       "      <td>0</td>\n",
       "      <td>0</td>\n",
       "      <td>0</td>\n",
       "      <td>1</td>\n",
       "      <td>0</td>\n",
       "      <td>0</td>\n",
       "      <td>0</td>\n",
       "      <td>0</td>\n",
       "      <td>0</td>\n",
       "      <td>1</td>\n",
       "      <td>0</td>\n",
       "      <td>0</td>\n",
       "      <td>1</td>\n",
       "      <td>0</td>\n",
       "      <td>1</td>\n",
       "      <td>0</td>\n",
       "      <td>0</td>\n",
       "      <td>0</td>\n",
       "      <td>0</td>\n",
       "      <td>0</td>\n",
       "      <td>0</td>\n",
       "      <td>0</td>\n",
       "      <td>1</td>\n",
       "      <td>0</td>\n",
       "      <td>0</td>\n",
       "      <td>0</td>\n",
       "      <td>0</td>\n",
       "      <td>0</td>\n",
       "      <td>0</td>\n",
       "      <td>1</td>\n",
       "      <td>0</td>\n",
       "    </tr>\n",
       "    <tr>\n",
       "      <th>34606</th>\n",
       "      <td>46</td>\n",
       "      <td>1</td>\n",
       "      <td>999</td>\n",
       "      <td>1</td>\n",
       "      <td>-1.8</td>\n",
       "      <td>92.893</td>\n",
       "      <td>-46.2</td>\n",
       "      <td>1.266</td>\n",
       "      <td>5099.1</td>\n",
       "      <td>0</td>\n",
       "      <td>0</td>\n",
       "      <td>0</td>\n",
       "      <td>0</td>\n",
       "      <td>0</td>\n",
       "      <td>0</td>\n",
       "      <td>1</td>\n",
       "      <td>0</td>\n",
       "      <td>0</td>\n",
       "      <td>0</td>\n",
       "      <td>0</td>\n",
       "      <td>1</td>\n",
       "      <td>0</td>\n",
       "      <td>0</td>\n",
       "      <td>0</td>\n",
       "      <td>0</td>\n",
       "      <td>1</td>\n",
       "      <td>0</td>\n",
       "      <td>0</td>\n",
       "      <td>0</td>\n",
       "      <td>0</td>\n",
       "      <td>0</td>\n",
       "      <td>0</td>\n",
       "      <td>0</td>\n",
       "      <td>1</td>\n",
       "      <td>0</td>\n",
       "      <td>0</td>\n",
       "      <td>0</td>\n",
       "      <td>0</td>\n",
       "      <td>0</td>\n",
       "      <td>0</td>\n",
       "      <td>0</td>\n",
       "      <td>0</td>\n",
       "      <td>1</td>\n",
       "      <td>0</td>\n",
       "      <td>0</td>\n",
       "      <td>0</td>\n",
       "      <td>0</td>\n",
       "      <td>1</td>\n",
       "      <td>0</td>\n",
       "      <td>0</td>\n",
       "      <td>0</td>\n",
       "      <td>0</td>\n",
       "    </tr>\n",
       "    <tr>\n",
       "      <th>7869</th>\n",
       "      <td>55</td>\n",
       "      <td>2</td>\n",
       "      <td>999</td>\n",
       "      <td>0</td>\n",
       "      <td>1.4</td>\n",
       "      <td>94.465</td>\n",
       "      <td>-41.8</td>\n",
       "      <td>4.865</td>\n",
       "      <td>5228.1</td>\n",
       "      <td>0</td>\n",
       "      <td>1</td>\n",
       "      <td>0</td>\n",
       "      <td>0</td>\n",
       "      <td>0</td>\n",
       "      <td>0</td>\n",
       "      <td>0</td>\n",
       "      <td>0</td>\n",
       "      <td>0</td>\n",
       "      <td>0</td>\n",
       "      <td>0</td>\n",
       "      <td>0</td>\n",
       "      <td>0</td>\n",
       "      <td>0</td>\n",
       "      <td>0</td>\n",
       "      <td>0</td>\n",
       "      <td>0</td>\n",
       "      <td>0</td>\n",
       "      <td>0</td>\n",
       "      <td>1</td>\n",
       "      <td>0</td>\n",
       "      <td>0</td>\n",
       "      <td>0</td>\n",
       "      <td>0</td>\n",
       "      <td>1</td>\n",
       "      <td>0</td>\n",
       "      <td>1</td>\n",
       "      <td>1</td>\n",
       "      <td>0</td>\n",
       "      <td>0</td>\n",
       "      <td>0</td>\n",
       "      <td>1</td>\n",
       "      <td>0</td>\n",
       "      <td>0</td>\n",
       "      <td>0</td>\n",
       "      <td>0</td>\n",
       "      <td>0</td>\n",
       "      <td>1</td>\n",
       "      <td>0</td>\n",
       "      <td>0</td>\n",
       "      <td>0</td>\n",
       "      <td>1</td>\n",
       "      <td>0</td>\n",
       "    </tr>\n",
       "  </tbody>\n",
       "</table>\n",
       "</div>"
      ],
      "text/plain": [
       "       age  campaign  pdays  previous  emp.var.rate  cons.price.idx  \\\n",
       "38757   37         1    999         0          -3.4          92.649   \n",
       "40369   30         1    999         1          -1.7          94.027   \n",
       "27545   57         2    999         0          -0.1          93.200   \n",
       "34606   46         1    999         1          -1.8          92.893   \n",
       "7869    55         2    999         0           1.4          94.465   \n",
       "\n",
       "       cons.conf.idx  euribor3m  nr.employed  job_blue-collar  \\\n",
       "38757          -30.1      0.715       5017.5                0   \n",
       "40369          -38.3      0.900       4991.6                0   \n",
       "27545          -42.0      4.021       5195.8                1   \n",
       "34606          -46.2      1.266       5099.1                0   \n",
       "7869           -41.8      4.865       5228.1                0   \n",
       "\n",
       "       job_entrepreneur  job_housemaid  job_management  job_retired  \\\n",
       "38757                 0              0               0            0   \n",
       "40369                 0              0               0            0   \n",
       "27545                 0              0               0            0   \n",
       "34606                 0              0               0            0   \n",
       "7869                  1              0               0            0   \n",
       "\n",
       "       job_self-employed  job_services  job_student  job_technician  \\\n",
       "38757                  0             0            0               0   \n",
       "40369                  0             0            0               0   \n",
       "27545                  0             0            0               0   \n",
       "34606                  0             1            0               0   \n",
       "7869                   0             0            0               0   \n",
       "\n",
       "       job_unemployed  job_unknown  marital_married  marital_single  \\\n",
       "38757               0            0                0               1   \n",
       "40369               0            0                0               1   \n",
       "27545               0            0                1               0   \n",
       "34606               0            0                1               0   \n",
       "7869                0            0                0               0   \n",
       "\n",
       "       marital_unknown  education_basic.6y  education_basic.9y  \\\n",
       "38757                0                   0                   0   \n",
       "40369                0                   0                   0   \n",
       "27545                0                   0                   1   \n",
       "34606                0                   0                   0   \n",
       "7869                 0                   0                   0   \n",
       "\n",
       "       education_high.school  education_illiterate  \\\n",
       "38757                      1                     0   \n",
       "40369                      0                     0   \n",
       "27545                      0                     0   \n",
       "34606                      1                     0   \n",
       "7869                       0                     0   \n",
       "\n",
       "       education_professional.course  education_university.degree  \\\n",
       "38757                              0                            0   \n",
       "40369                              0                            1   \n",
       "27545                              0                            0   \n",
       "34606                              0                            0   \n",
       "7869                               0                            1   \n",
       "\n",
       "       education_unknown  default_unknown  default_yes  housing_unknown  \\\n",
       "38757                  0                0            0                0   \n",
       "40369                  0                0            0                0   \n",
       "27545                  0                1            0                0   \n",
       "34606                  0                0            0                0   \n",
       "7869                   0                0            0                0   \n",
       "\n",
       "       housing_yes  loan_unknown  loan_yes  contact_telephone  month_aug  \\\n",
       "38757            0             0         1                  0          0   \n",
       "40369            0             0         0                  1          1   \n",
       "27545            1             0         1                  0          0   \n",
       "34606            1             0         0                  0          0   \n",
       "7869             1             0         1                  1          0   \n",
       "\n",
       "       month_dec  month_jul  month_jun  month_mar  month_may  month_nov  \\\n",
       "38757          0          0          0          0          0          1   \n",
       "40369          0          0          0          0          0          0   \n",
       "27545          0          0          0          0          0          1   \n",
       "34606          0          0          0          0          1          0   \n",
       "7869           0          0          1          0          0          0   \n",
       "\n",
       "       month_oct  month_sep  day_of_week_mon  day_of_week_thu  \\\n",
       "38757          0          0                0                0   \n",
       "40369          0          0                0                0   \n",
       "27545          0          0                0                0   \n",
       "34606          0          0                0                1   \n",
       "7869           0          0                1                0   \n",
       "\n",
       "       day_of_week_tue  day_of_week_wed  poutcome_nonexistent  \\\n",
       "38757                0                1                     1   \n",
       "40369                0                1                     0   \n",
       "27545                0                0                     1   \n",
       "34606                0                0                     0   \n",
       "7869                 0                0                     1   \n",
       "\n",
       "       poutcome_success  \n",
       "38757                 0  \n",
       "40369                 0  \n",
       "27545                 0  \n",
       "34606                 0  \n",
       "7869                  0  "
      ]
     },
     "execution_count": 62,
     "metadata": {},
     "output_type": "execute_result"
    }
   ],
   "source": [
    "X_train.head(5)"
   ]
  },
  {
   "cell_type": "code",
   "execution_count": 63,
   "metadata": {},
   "outputs": [
    {
     "name": "stdout",
     "output_type": "stream",
     "text": [
      "Мы получили 52 признака\n"
     ]
    }
   ],
   "source": [
    "print('Мы получили', X_train.shape[1], 'признака')"
   ]
  },
  {
   "cell_type": "markdown",
   "metadata": {},
   "source": [
    "В качестве основной модели будем использовать логистическую регрессию, а целевой метрики — `AUC-PR`. \n",
    "- Обучим модель и посчитаем качество на тестовой выборке. \n",
    "- Запомним полученное значение."
   ]
  },
  {
   "cell_type": "code",
   "execution_count": 64,
   "metadata": {},
   "outputs": [
    {
     "name": "stdout",
     "output_type": "stream",
     "text": [
      "AUC-PR = 0.95224\n"
     ]
    }
   ],
   "source": [
    "clf = LogisticRegression()\n",
    "clf.fit(X_train, y_train)\n",
    "a_x = clf.predict(X_test)\n",
    "\n",
    "#запомнили значение\n",
    "auc_pr_lr_ohe = auc_pr(y_test,a_x)\n",
    "\n",
    "print(\"AUC-PR = %.5f\" %  auc_pr_lr_ohe)"
   ]
  },
  {
   "cell_type": "markdown",
   "metadata": {},
   "source": [
    "### Встроенные методы"
   ]
  },
  {
   "cell_type": "markdown",
   "metadata": {},
   "source": [
    "Допустим, мы хотим оставить только 40 лучших признаков. Попробуем сделать это несколькими способами.\n",
    "\n",
    "Начнём с отборам признаков с помощью линейной модели. Как известно, веса линейной модели означают вклад каждого признака в предсказание модели, а значит, модуль этого вклада можно интерпретировать как важность признаков. Такой метод отбора называются встроенным или embedded method, так как он заложен в особенности модели.\n",
    "\n",
    "Оставим 40 признаков с наибольшим модулем соответствующего параметра линейной модели. "
   ]
  },
  {
   "cell_type": "code",
   "execution_count": 65,
   "metadata": {},
   "outputs": [
    {
     "name": "stdout",
     "output_type": "stream",
     "text": [
      "Время на обучение модели: 0.5303897857666016\n",
      "AUC-PR (40 признаков) = 0.95202\n"
     ]
    }
   ],
   "source": [
    "start_time = time.time()\n",
    "\n",
    "indices = pd.DataFrame(clf.coef_[0], [*range(52)]).sort_values(by=0).tail(40).index\n",
    "\n",
    "x_train = X_train.iloc[:, indices.values]\n",
    "x_test = X_test.iloc[:, indices.values]\n",
    "\n",
    "clf1 = LogisticRegression()\n",
    "clf1.fit(x_train, y_train)\n",
    "a_x = clf1.predict(x_test)\n",
    "\n",
    "auc_pr_lr_fourty = auc_pr(y_test,a_x)\n",
    "\n",
    "print('Время на обучение модели:', time.time() - start_time)\n",
    "print(\"AUC-PR (40 признаков) = %.5f\" %  auc_pr_lr_fourty)"
   ]
  },
  {
   "cell_type": "markdown",
   "metadata": {},
   "source": [
    "- **Качество упало, но незначительно**"
   ]
  },
  {
   "cell_type": "markdown",
   "metadata": {},
   "source": [
    "Учтем разный масштаб признаков"
   ]
  },
  {
   "cell_type": "markdown",
   "metadata": {},
   "source": [
    "### Отмасшабируем признаки с помощью StandartScaler и OHE"
   ]
  },
  {
   "cell_type": "markdown",
   "metadata": {},
   "source": [
    "**Снова разделим данные**"
   ]
  },
  {
   "cell_type": "code",
   "execution_count": 66,
   "metadata": {},
   "outputs": [],
   "source": [
    "df = pd.read_csv('bank-additional-full.csv', sep=';')\n",
    "\n",
    "#удалили целевой столбец и неинформативный признак\n",
    "X = df.drop(columns=['duration', 'y'])\n",
    "\n",
    "#обработали столбец таргета\n",
    "df.loc[df['y'] == 'yes', 'y'] = 0\n",
    "df.loc[df['y'] == 'no', 'y'] = 1\n",
    "y = df['y']\n",
    "\n",
    "#разделили выборку на обучающую и тестовую\n",
    "X_train, X_test, y_train, y_test = train_test_split(X, y, test_size=0.3, random_state=777, stratify=y)\n",
    "\n",
    "y_train = y_train.astype('int')\n",
    "y_test = y_test.astype('int')"
   ]
  },
  {
   "cell_type": "markdown",
   "metadata": {},
   "source": [
    "### Кодирование"
   ]
  },
  {
   "cell_type": "code",
   "execution_count": 67,
   "metadata": {},
   "outputs": [],
   "source": [
    "#вещественные признаки отмасштабируем с помощью StandardScaler, категориальные пока не трогаем\n",
    "date = ColumnTransformer([\n",
    "                     ('cat', 'passthrough', cat),\n",
    "                     ('num', StandardScaler(), num)\n",
    "                     ])\n",
    "\n",
    "X_train = pd.DataFrame(date.fit_transform(X_train))\n",
    "X_test = pd.DataFrame(date.transform(X_test))"
   ]
  },
  {
   "cell_type": "code",
   "execution_count": 68,
   "metadata": {},
   "outputs": [],
   "source": [
    "#кодируем категориальные признаки\n",
    "cat_mask = X_train.select_dtypes(include=['object']).columns\n",
    "cat_mask = X_test.select_dtypes(include=['object']).columns\n",
    "\n",
    "#drop_first = True даст k-1 столбцов для столбца с k категориями -> избежим попадения в дамми-трэп\n",
    "X_train = pd.get_dummies(data=X_train, columns=X_train.iloc[:, 0:10].columns, drop_first=True)\n",
    "X_test = pd.get_dummies(data=X_test, columns=X_test.iloc[:, 0:10].columns, drop_first=True)"
   ]
  },
  {
   "cell_type": "markdown",
   "metadata": {},
   "source": [
    "### Теперь мы имеем набор данных, которые  отмасштабированы и закодированы"
   ]
  },
  {
   "cell_type": "code",
   "execution_count": 69,
   "metadata": {},
   "outputs": [
    {
     "data": {
      "text/html": [
       "<div>\n",
       "<style scoped>\n",
       "    .dataframe tbody tr th:only-of-type {\n",
       "        vertical-align: middle;\n",
       "    }\n",
       "\n",
       "    .dataframe tbody tr th {\n",
       "        vertical-align: top;\n",
       "    }\n",
       "\n",
       "    .dataframe thead th {\n",
       "        text-align: right;\n",
       "    }\n",
       "</style>\n",
       "<table border=\"1\" class=\"dataframe\">\n",
       "  <thead>\n",
       "    <tr style=\"text-align: right;\">\n",
       "      <th></th>\n",
       "      <th>10</th>\n",
       "      <th>11</th>\n",
       "      <th>12</th>\n",
       "      <th>13</th>\n",
       "      <th>14</th>\n",
       "      <th>15</th>\n",
       "      <th>16</th>\n",
       "      <th>17</th>\n",
       "      <th>18</th>\n",
       "      <th>0_blue-collar</th>\n",
       "      <th>0_entrepreneur</th>\n",
       "      <th>0_housemaid</th>\n",
       "      <th>0_management</th>\n",
       "      <th>0_retired</th>\n",
       "      <th>0_self-employed</th>\n",
       "      <th>0_services</th>\n",
       "      <th>0_student</th>\n",
       "      <th>0_technician</th>\n",
       "      <th>0_unemployed</th>\n",
       "      <th>0_unknown</th>\n",
       "      <th>1_married</th>\n",
       "      <th>1_single</th>\n",
       "      <th>1_unknown</th>\n",
       "      <th>2_basic.6y</th>\n",
       "      <th>2_basic.9y</th>\n",
       "      <th>2_high.school</th>\n",
       "      <th>2_illiterate</th>\n",
       "      <th>2_professional.course</th>\n",
       "      <th>2_university.degree</th>\n",
       "      <th>2_unknown</th>\n",
       "      <th>3_unknown</th>\n",
       "      <th>3_yes</th>\n",
       "      <th>4_unknown</th>\n",
       "      <th>4_yes</th>\n",
       "      <th>5_unknown</th>\n",
       "      <th>5_yes</th>\n",
       "      <th>6_telephone</th>\n",
       "      <th>7_aug</th>\n",
       "      <th>7_dec</th>\n",
       "      <th>7_jul</th>\n",
       "      <th>7_jun</th>\n",
       "      <th>7_mar</th>\n",
       "      <th>7_may</th>\n",
       "      <th>7_nov</th>\n",
       "      <th>7_oct</th>\n",
       "      <th>7_sep</th>\n",
       "      <th>8_mon</th>\n",
       "      <th>8_thu</th>\n",
       "      <th>8_tue</th>\n",
       "      <th>8_wed</th>\n",
       "      <th>9_nonexistent</th>\n",
       "      <th>9_success</th>\n",
       "    </tr>\n",
       "  </thead>\n",
       "  <tbody>\n",
       "    <tr>\n",
       "      <th>0</th>\n",
       "      <td>-0.289536</td>\n",
       "      <td>-0.567466</td>\n",
       "      <td>0.196418</td>\n",
       "      <td>-0.351015</td>\n",
       "      <td>-2.21359</td>\n",
       "      <td>2.24946</td>\n",
       "      <td>-1.59958</td>\n",
       "      <td>-1.66975</td>\n",
       "      <td>-2.06184</td>\n",
       "      <td>0</td>\n",
       "      <td>0</td>\n",
       "      <td>0</td>\n",
       "      <td>0</td>\n",
       "      <td>0</td>\n",
       "      <td>0</td>\n",
       "      <td>0</td>\n",
       "      <td>0</td>\n",
       "      <td>0</td>\n",
       "      <td>0</td>\n",
       "      <td>0</td>\n",
       "      <td>0</td>\n",
       "      <td>1</td>\n",
       "      <td>0</td>\n",
       "      <td>0</td>\n",
       "      <td>0</td>\n",
       "      <td>1</td>\n",
       "      <td>0</td>\n",
       "      <td>0</td>\n",
       "      <td>0</td>\n",
       "      <td>0</td>\n",
       "      <td>0</td>\n",
       "      <td>0</td>\n",
       "      <td>0</td>\n",
       "      <td>0</td>\n",
       "      <td>0</td>\n",
       "      <td>1</td>\n",
       "      <td>0</td>\n",
       "      <td>0</td>\n",
       "      <td>0</td>\n",
       "      <td>0</td>\n",
       "      <td>0</td>\n",
       "      <td>0</td>\n",
       "      <td>0</td>\n",
       "      <td>1</td>\n",
       "      <td>0</td>\n",
       "      <td>0</td>\n",
       "      <td>0</td>\n",
       "      <td>0</td>\n",
       "      <td>0</td>\n",
       "      <td>1</td>\n",
       "      <td>1</td>\n",
       "      <td>0</td>\n",
       "    </tr>\n",
       "    <tr>\n",
       "      <th>1</th>\n",
       "      <td>-0.958139</td>\n",
       "      <td>-0.567466</td>\n",
       "      <td>0.196418</td>\n",
       "      <td>1.66534</td>\n",
       "      <td>-1.13182</td>\n",
       "      <td>0.477886</td>\n",
       "      <td>0.781528</td>\n",
       "      <td>-1.56325</td>\n",
       "      <td>-2.41943</td>\n",
       "      <td>0</td>\n",
       "      <td>0</td>\n",
       "      <td>0</td>\n",
       "      <td>0</td>\n",
       "      <td>0</td>\n",
       "      <td>0</td>\n",
       "      <td>0</td>\n",
       "      <td>0</td>\n",
       "      <td>0</td>\n",
       "      <td>0</td>\n",
       "      <td>0</td>\n",
       "      <td>0</td>\n",
       "      <td>1</td>\n",
       "      <td>0</td>\n",
       "      <td>0</td>\n",
       "      <td>0</td>\n",
       "      <td>0</td>\n",
       "      <td>0</td>\n",
       "      <td>0</td>\n",
       "      <td>1</td>\n",
       "      <td>0</td>\n",
       "      <td>0</td>\n",
       "      <td>0</td>\n",
       "      <td>0</td>\n",
       "      <td>0</td>\n",
       "      <td>0</td>\n",
       "      <td>0</td>\n",
       "      <td>1</td>\n",
       "      <td>1</td>\n",
       "      <td>0</td>\n",
       "      <td>0</td>\n",
       "      <td>0</td>\n",
       "      <td>0</td>\n",
       "      <td>0</td>\n",
       "      <td>0</td>\n",
       "      <td>0</td>\n",
       "      <td>0</td>\n",
       "      <td>0</td>\n",
       "      <td>0</td>\n",
       "      <td>0</td>\n",
       "      <td>1</td>\n",
       "      <td>0</td>\n",
       "      <td>0</td>\n",
       "    </tr>\n",
       "    <tr>\n",
       "      <th>2</th>\n",
       "      <td>1.62076</td>\n",
       "      <td>-0.203565</td>\n",
       "      <td>0.196418</td>\n",
       "      <td>-0.351015</td>\n",
       "      <td>-0.113695</td>\n",
       "      <td>-0.321482</td>\n",
       "      <td>-0.647481</td>\n",
       "      <td>0.233315</td>\n",
       "      <td>0.399899</td>\n",
       "      <td>1</td>\n",
       "      <td>0</td>\n",
       "      <td>0</td>\n",
       "      <td>0</td>\n",
       "      <td>0</td>\n",
       "      <td>0</td>\n",
       "      <td>0</td>\n",
       "      <td>0</td>\n",
       "      <td>0</td>\n",
       "      <td>0</td>\n",
       "      <td>0</td>\n",
       "      <td>1</td>\n",
       "      <td>0</td>\n",
       "      <td>0</td>\n",
       "      <td>0</td>\n",
       "      <td>1</td>\n",
       "      <td>0</td>\n",
       "      <td>0</td>\n",
       "      <td>0</td>\n",
       "      <td>0</td>\n",
       "      <td>0</td>\n",
       "      <td>1</td>\n",
       "      <td>0</td>\n",
       "      <td>0</td>\n",
       "      <td>1</td>\n",
       "      <td>0</td>\n",
       "      <td>1</td>\n",
       "      <td>0</td>\n",
       "      <td>0</td>\n",
       "      <td>0</td>\n",
       "      <td>0</td>\n",
       "      <td>0</td>\n",
       "      <td>0</td>\n",
       "      <td>0</td>\n",
       "      <td>1</td>\n",
       "      <td>0</td>\n",
       "      <td>0</td>\n",
       "      <td>0</td>\n",
       "      <td>0</td>\n",
       "      <td>0</td>\n",
       "      <td>0</td>\n",
       "      <td>1</td>\n",
       "      <td>0</td>\n",
       "    </tr>\n",
       "    <tr>\n",
       "      <th>3</th>\n",
       "      <td>0.570097</td>\n",
       "      <td>-0.567466</td>\n",
       "      <td>0.196418</td>\n",
       "      <td>1.66534</td>\n",
       "      <td>-1.19546</td>\n",
       "      <td>-1.22887</td>\n",
       "      <td>-1.17796</td>\n",
       "      <td>-1.35257</td>\n",
       "      <td>-0.93521</td>\n",
       "      <td>0</td>\n",
       "      <td>0</td>\n",
       "      <td>0</td>\n",
       "      <td>0</td>\n",
       "      <td>0</td>\n",
       "      <td>0</td>\n",
       "      <td>1</td>\n",
       "      <td>0</td>\n",
       "      <td>0</td>\n",
       "      <td>0</td>\n",
       "      <td>0</td>\n",
       "      <td>1</td>\n",
       "      <td>0</td>\n",
       "      <td>0</td>\n",
       "      <td>0</td>\n",
       "      <td>0</td>\n",
       "      <td>1</td>\n",
       "      <td>0</td>\n",
       "      <td>0</td>\n",
       "      <td>0</td>\n",
       "      <td>0</td>\n",
       "      <td>0</td>\n",
       "      <td>0</td>\n",
       "      <td>0</td>\n",
       "      <td>1</td>\n",
       "      <td>0</td>\n",
       "      <td>0</td>\n",
       "      <td>0</td>\n",
       "      <td>0</td>\n",
       "      <td>0</td>\n",
       "      <td>0</td>\n",
       "      <td>0</td>\n",
       "      <td>0</td>\n",
       "      <td>1</td>\n",
       "      <td>0</td>\n",
       "      <td>0</td>\n",
       "      <td>0</td>\n",
       "      <td>0</td>\n",
       "      <td>1</td>\n",
       "      <td>0</td>\n",
       "      <td>0</td>\n",
       "      <td>0</td>\n",
       "      <td>0</td>\n",
       "    </tr>\n",
       "    <tr>\n",
       "      <th>4</th>\n",
       "      <td>1.42973</td>\n",
       "      <td>-0.203565</td>\n",
       "      <td>0.196418</td>\n",
       "      <td>-0.351015</td>\n",
       "      <td>0.840802</td>\n",
       "      <td>-0.278273</td>\n",
       "      <td>1.53837</td>\n",
       "      <td>0.719154</td>\n",
       "      <td>0.845855</td>\n",
       "      <td>0</td>\n",
       "      <td>1</td>\n",
       "      <td>0</td>\n",
       "      <td>0</td>\n",
       "      <td>0</td>\n",
       "      <td>0</td>\n",
       "      <td>0</td>\n",
       "      <td>0</td>\n",
       "      <td>0</td>\n",
       "      <td>0</td>\n",
       "      <td>0</td>\n",
       "      <td>0</td>\n",
       "      <td>0</td>\n",
       "      <td>0</td>\n",
       "      <td>0</td>\n",
       "      <td>0</td>\n",
       "      <td>0</td>\n",
       "      <td>0</td>\n",
       "      <td>0</td>\n",
       "      <td>1</td>\n",
       "      <td>0</td>\n",
       "      <td>0</td>\n",
       "      <td>0</td>\n",
       "      <td>0</td>\n",
       "      <td>1</td>\n",
       "      <td>0</td>\n",
       "      <td>1</td>\n",
       "      <td>1</td>\n",
       "      <td>0</td>\n",
       "      <td>0</td>\n",
       "      <td>0</td>\n",
       "      <td>1</td>\n",
       "      <td>0</td>\n",
       "      <td>0</td>\n",
       "      <td>0</td>\n",
       "      <td>0</td>\n",
       "      <td>0</td>\n",
       "      <td>1</td>\n",
       "      <td>0</td>\n",
       "      <td>0</td>\n",
       "      <td>0</td>\n",
       "      <td>1</td>\n",
       "      <td>0</td>\n",
       "    </tr>\n",
       "  </tbody>\n",
       "</table>\n",
       "</div>"
      ],
      "text/plain": [
       "         10        11        12        13        14        15        16  \\\n",
       "0 -0.289536 -0.567466  0.196418 -0.351015  -2.21359   2.24946  -1.59958   \n",
       "1 -0.958139 -0.567466  0.196418   1.66534  -1.13182  0.477886  0.781528   \n",
       "2   1.62076 -0.203565  0.196418 -0.351015 -0.113695 -0.321482 -0.647481   \n",
       "3  0.570097 -0.567466  0.196418   1.66534  -1.19546  -1.22887  -1.17796   \n",
       "4   1.42973 -0.203565  0.196418 -0.351015  0.840802 -0.278273   1.53837   \n",
       "\n",
       "         17        18  0_blue-collar  0_entrepreneur  0_housemaid  \\\n",
       "0  -1.66975  -2.06184              0               0            0   \n",
       "1  -1.56325  -2.41943              0               0            0   \n",
       "2  0.233315  0.399899              1               0            0   \n",
       "3  -1.35257  -0.93521              0               0            0   \n",
       "4  0.719154  0.845855              0               1            0   \n",
       "\n",
       "   0_management  0_retired  0_self-employed  0_services  0_student  \\\n",
       "0             0          0                0           0          0   \n",
       "1             0          0                0           0          0   \n",
       "2             0          0                0           0          0   \n",
       "3             0          0                0           1          0   \n",
       "4             0          0                0           0          0   \n",
       "\n",
       "   0_technician  0_unemployed  0_unknown  1_married  1_single  1_unknown  \\\n",
       "0             0             0          0          0         1          0   \n",
       "1             0             0          0          0         1          0   \n",
       "2             0             0          0          1         0          0   \n",
       "3             0             0          0          1         0          0   \n",
       "4             0             0          0          0         0          0   \n",
       "\n",
       "   2_basic.6y  2_basic.9y  2_high.school  2_illiterate  2_professional.course  \\\n",
       "0           0           0              1             0                      0   \n",
       "1           0           0              0             0                      0   \n",
       "2           0           1              0             0                      0   \n",
       "3           0           0              1             0                      0   \n",
       "4           0           0              0             0                      0   \n",
       "\n",
       "   2_university.degree  2_unknown  3_unknown  3_yes  4_unknown  4_yes  \\\n",
       "0                    0          0          0      0          0      0   \n",
       "1                    1          0          0      0          0      0   \n",
       "2                    0          0          1      0          0      1   \n",
       "3                    0          0          0      0          0      1   \n",
       "4                    1          0          0      0          0      1   \n",
       "\n",
       "   5_unknown  5_yes  6_telephone  7_aug  7_dec  7_jul  7_jun  7_mar  7_may  \\\n",
       "0          0      1            0      0      0      0      0      0      0   \n",
       "1          0      0            1      1      0      0      0      0      0   \n",
       "2          0      1            0      0      0      0      0      0      0   \n",
       "3          0      0            0      0      0      0      0      0      1   \n",
       "4          0      1            1      0      0      0      1      0      0   \n",
       "\n",
       "   7_nov  7_oct  7_sep  8_mon  8_thu  8_tue  8_wed  9_nonexistent  9_success  \n",
       "0      1      0      0      0      0      0      1              1          0  \n",
       "1      0      0      0      0      0      0      1              0          0  \n",
       "2      1      0      0      0      0      0      0              1          0  \n",
       "3      0      0      0      0      1      0      0              0          0  \n",
       "4      0      0      0      1      0      0      0              1          0  "
      ]
     },
     "execution_count": 69,
     "metadata": {},
     "output_type": "execute_result"
    }
   ],
   "source": [
    "X_train.head(5)"
   ]
  },
  {
   "cell_type": "markdown",
   "metadata": {},
   "source": [
    "**Теперь выберем 40 признаков с наибольшим модулем соответствующего параметра линейной модели. Обучите модель, оценим её качество.**"
   ]
  },
  {
   "cell_type": "code",
   "execution_count": 70,
   "metadata": {},
   "outputs": [
    {
     "data": {
      "text/plain": [
       "LogisticRegression()"
      ]
     },
     "execution_count": 70,
     "metadata": {},
     "output_type": "execute_result"
    }
   ],
   "source": [
    "clf = LogisticRegression()\n",
    "clf.fit(X_train, y_train)"
   ]
  },
  {
   "cell_type": "code",
   "execution_count": 71,
   "metadata": {},
   "outputs": [
    {
     "name": "stdout",
     "output_type": "stream",
     "text": [
      "Время на обучение модели: 0.5031001567840576\n",
      "AUC-PR (40 признаков) = 0.95215\n",
      "indices = Int64Index([16, 26, 13,  5, 47, 48, 45, 20, 29, 18,  0, 28, 11, 17, 24, 33, 25,\n",
      "            10, 12,  3, 39, 31, 14, 35, 32, 34, 27, 15,  1, 44, 19,  2, 46,  9,\n",
      "            30, 42, 43, 40, 36,  4],\n",
      "           dtype='int64')\n"
     ]
    }
   ],
   "source": [
    "start_time = time.time()\n",
    "\n",
    "indices = pd.DataFrame(clf.coef_[0], [*range(52)]).sort_values(by=0).tail(40).index\n",
    "\n",
    "x_train = X_train.iloc[:, indices.values]\n",
    "x_test = X_test.iloc[:, indices.values]\n",
    "\n",
    "clf1 = LogisticRegression()\n",
    "clf1.fit(x_train, y_train)\n",
    "a_x = clf1.predict(x_test)\n",
    "\n",
    "auc_pr_lr_fourty = auc_pr(y_test,a_x)\n",
    "\n",
    "print('Время на обучение модели:', time.time() - start_time)\n",
    "print(\"AUC-PR (40 признаков) = %.5f\" %  auc_pr_lr_fourty)\n",
    "print('indices =', indices)"
   ]
  },
  {
   "cell_type": "markdown",
   "metadata": {},
   "source": [
    "**Качество стало немного лучше, НО по сравнению с первоначальной моделью (где используются все признаки) оно ниже (незначительно)**"
   ]
  },
  {
   "cell_type": "code",
   "execution_count": 72,
   "metadata": {},
   "outputs": [],
   "source": [
    "df = pd.read_csv('bank-additional-full.csv', sep=';')\n",
    "\n",
    "#удалили целевой столбец и неинформативный признак\n",
    "X = df.drop(columns=['duration', 'y'])\n",
    "\n",
    "#обработали столбец таргета\n",
    "df.loc[df['y'] == 'yes', 'y'] = 0\n",
    "df.loc[df['y'] == 'no', 'y'] = 1\n",
    "y = df['y']\n",
    "\n",
    "#разделили выборку на обучающую и тестовую\n",
    "X_train, X_test, y_train, y_test = train_test_split(X, y, test_size=0.3, random_state=777, stratify=y)\n",
    "\n",
    "y_train = y_train.astype('int')\n",
    "y_test = y_test.astype('int')"
   ]
  },
  {
   "cell_type": "code",
   "execution_count": 73,
   "metadata": {},
   "outputs": [],
   "source": [
    "#закодировали категории\n",
    "cat_mask = X_train.select_dtypes(include=['object']).columns\n",
    "cat_mask = X_test.select_dtypes(include=['object']).columns\n",
    "\n",
    "#drop_first = True даст k-1 столбцов для столбца с k категориями -> избежим попадения в дамми-трэп\n",
    "X_train = pd.get_dummies(X_train, columns = cat_mask, drop_first=True)\n",
    "X_test = pd.get_dummies(X_test, columns = cat_mask, drop_first=True)"
   ]
  },
  {
   "cell_type": "code",
   "execution_count": 74,
   "metadata": {},
   "outputs": [],
   "source": [
    "#отмасштабируем все!\n",
    "scaler = StandardScaler()\n",
    "\n",
    "X_train = pd.DataFrame(scaler.fit_transform(X_train))\n",
    "X_test = pd.DataFrame(scaler.transform(X_test))"
   ]
  },
  {
   "cell_type": "code",
   "execution_count": 75,
   "metadata": {},
   "outputs": [
    {
     "data": {
      "text/html": [
       "<div>\n",
       "<style scoped>\n",
       "    .dataframe tbody tr th:only-of-type {\n",
       "        vertical-align: middle;\n",
       "    }\n",
       "\n",
       "    .dataframe tbody tr th {\n",
       "        vertical-align: top;\n",
       "    }\n",
       "\n",
       "    .dataframe thead th {\n",
       "        text-align: right;\n",
       "    }\n",
       "</style>\n",
       "<table border=\"1\" class=\"dataframe\">\n",
       "  <thead>\n",
       "    <tr style=\"text-align: right;\">\n",
       "      <th></th>\n",
       "      <th>0</th>\n",
       "      <th>1</th>\n",
       "      <th>2</th>\n",
       "      <th>3</th>\n",
       "      <th>4</th>\n",
       "      <th>5</th>\n",
       "      <th>6</th>\n",
       "      <th>7</th>\n",
       "      <th>8</th>\n",
       "      <th>9</th>\n",
       "      <th>10</th>\n",
       "      <th>11</th>\n",
       "      <th>12</th>\n",
       "      <th>13</th>\n",
       "      <th>14</th>\n",
       "      <th>15</th>\n",
       "      <th>16</th>\n",
       "      <th>17</th>\n",
       "      <th>18</th>\n",
       "      <th>19</th>\n",
       "      <th>20</th>\n",
       "      <th>21</th>\n",
       "      <th>22</th>\n",
       "      <th>23</th>\n",
       "      <th>24</th>\n",
       "      <th>25</th>\n",
       "      <th>26</th>\n",
       "      <th>27</th>\n",
       "      <th>28</th>\n",
       "      <th>29</th>\n",
       "      <th>30</th>\n",
       "      <th>31</th>\n",
       "      <th>32</th>\n",
       "      <th>33</th>\n",
       "      <th>34</th>\n",
       "      <th>35</th>\n",
       "      <th>36</th>\n",
       "      <th>37</th>\n",
       "      <th>38</th>\n",
       "      <th>39</th>\n",
       "      <th>40</th>\n",
       "      <th>41</th>\n",
       "      <th>42</th>\n",
       "      <th>43</th>\n",
       "      <th>44</th>\n",
       "      <th>45</th>\n",
       "      <th>46</th>\n",
       "      <th>47</th>\n",
       "      <th>48</th>\n",
       "      <th>49</th>\n",
       "      <th>50</th>\n",
       "      <th>51</th>\n",
       "    </tr>\n",
       "  </thead>\n",
       "  <tbody>\n",
       "    <tr>\n",
       "      <th>0</th>\n",
       "      <td>-0.289536</td>\n",
       "      <td>-0.567466</td>\n",
       "      <td>0.196418</td>\n",
       "      <td>-0.351015</td>\n",
       "      <td>-2.213588</td>\n",
       "      <td>-1.599578</td>\n",
       "      <td>2.249459</td>\n",
       "      <td>-1.669748</td>\n",
       "      <td>-2.061837</td>\n",
       "      <td>-0.532812</td>\n",
       "      <td>-0.191023</td>\n",
       "      <td>-0.163315</td>\n",
       "      <td>-0.275507</td>\n",
       "      <td>-0.212798</td>\n",
       "      <td>-0.190437</td>\n",
       "      <td>-0.325694</td>\n",
       "      <td>-0.144789</td>\n",
       "      <td>-0.444409</td>\n",
       "      <td>-0.159698</td>\n",
       "      <td>-0.090458</td>\n",
       "      <td>-1.236273</td>\n",
       "      <td>1.597749</td>\n",
       "      <td>-0.044897</td>\n",
       "      <td>-0.238199</td>\n",
       "      <td>-0.411209</td>\n",
       "      <td>1.813574</td>\n",
       "      <td>-0.020406</td>\n",
       "      <td>-0.383823</td>\n",
       "      <td>-0.649451</td>\n",
       "      <td>-0.21128</td>\n",
       "      <td>-0.510860</td>\n",
       "      <td>-0.008329</td>\n",
       "      <td>-0.153774</td>\n",
       "      <td>-1.049542</td>\n",
       "      <td>-0.153774</td>\n",
       "      <td>2.353219</td>\n",
       "      <td>-0.754457</td>\n",
       "      <td>-0.423014</td>\n",
       "      <td>-0.067301</td>\n",
       "      <td>-0.460045</td>\n",
       "      <td>-0.384120</td>\n",
       "      <td>-0.116643</td>\n",
       "      <td>-0.706923</td>\n",
       "      <td>3.015187</td>\n",
       "      <td>-0.133387</td>\n",
       "      <td>-0.114951</td>\n",
       "      <td>-0.509996</td>\n",
       "      <td>-0.513342</td>\n",
       "      <td>-0.497766</td>\n",
       "      <td>2.028000</td>\n",
       "      <td>0.398208</td>\n",
       "      <td>-0.185992</td>\n",
       "    </tr>\n",
       "    <tr>\n",
       "      <th>1</th>\n",
       "      <td>-0.958139</td>\n",
       "      <td>-0.567466</td>\n",
       "      <td>0.196418</td>\n",
       "      <td>1.665344</td>\n",
       "      <td>-1.131825</td>\n",
       "      <td>0.781528</td>\n",
       "      <td>0.477886</td>\n",
       "      <td>-1.563255</td>\n",
       "      <td>-2.419431</td>\n",
       "      <td>-0.532812</td>\n",
       "      <td>-0.191023</td>\n",
       "      <td>-0.163315</td>\n",
       "      <td>-0.275507</td>\n",
       "      <td>-0.212798</td>\n",
       "      <td>-0.190437</td>\n",
       "      <td>-0.325694</td>\n",
       "      <td>-0.144789</td>\n",
       "      <td>-0.444409</td>\n",
       "      <td>-0.159698</td>\n",
       "      <td>-0.090458</td>\n",
       "      <td>-1.236273</td>\n",
       "      <td>1.597749</td>\n",
       "      <td>-0.044897</td>\n",
       "      <td>-0.238199</td>\n",
       "      <td>-0.411209</td>\n",
       "      <td>-0.551397</td>\n",
       "      <td>-0.020406</td>\n",
       "      <td>-0.383823</td>\n",
       "      <td>1.539761</td>\n",
       "      <td>-0.21128</td>\n",
       "      <td>-0.510860</td>\n",
       "      <td>-0.008329</td>\n",
       "      <td>-0.153774</td>\n",
       "      <td>-1.049542</td>\n",
       "      <td>-0.153774</td>\n",
       "      <td>-0.424950</td>\n",
       "      <td>1.325457</td>\n",
       "      <td>2.363988</td>\n",
       "      <td>-0.067301</td>\n",
       "      <td>-0.460045</td>\n",
       "      <td>-0.384120</td>\n",
       "      <td>-0.116643</td>\n",
       "      <td>-0.706923</td>\n",
       "      <td>-0.331654</td>\n",
       "      <td>-0.133387</td>\n",
       "      <td>-0.114951</td>\n",
       "      <td>-0.509996</td>\n",
       "      <td>-0.513342</td>\n",
       "      <td>-0.497766</td>\n",
       "      <td>2.028000</td>\n",
       "      <td>-2.511252</td>\n",
       "      <td>-0.185992</td>\n",
       "    </tr>\n",
       "    <tr>\n",
       "      <th>2</th>\n",
       "      <td>1.620760</td>\n",
       "      <td>-0.203565</td>\n",
       "      <td>0.196418</td>\n",
       "      <td>-0.351015</td>\n",
       "      <td>-0.113695</td>\n",
       "      <td>-0.647481</td>\n",
       "      <td>-0.321482</td>\n",
       "      <td>0.233315</td>\n",
       "      <td>0.399899</td>\n",
       "      <td>1.876835</td>\n",
       "      <td>-0.191023</td>\n",
       "      <td>-0.163315</td>\n",
       "      <td>-0.275507</td>\n",
       "      <td>-0.212798</td>\n",
       "      <td>-0.190437</td>\n",
       "      <td>-0.325694</td>\n",
       "      <td>-0.144789</td>\n",
       "      <td>-0.444409</td>\n",
       "      <td>-0.159698</td>\n",
       "      <td>-0.090458</td>\n",
       "      <td>0.808883</td>\n",
       "      <td>-0.625880</td>\n",
       "      <td>-0.044897</td>\n",
       "      <td>-0.238199</td>\n",
       "      <td>2.431853</td>\n",
       "      <td>-0.551397</td>\n",
       "      <td>-0.020406</td>\n",
       "      <td>-0.383823</td>\n",
       "      <td>-0.649451</td>\n",
       "      <td>-0.21128</td>\n",
       "      <td>1.957483</td>\n",
       "      <td>-0.008329</td>\n",
       "      <td>-0.153774</td>\n",
       "      <td>0.952797</td>\n",
       "      <td>-0.153774</td>\n",
       "      <td>2.353219</td>\n",
       "      <td>-0.754457</td>\n",
       "      <td>-0.423014</td>\n",
       "      <td>-0.067301</td>\n",
       "      <td>-0.460045</td>\n",
       "      <td>-0.384120</td>\n",
       "      <td>-0.116643</td>\n",
       "      <td>-0.706923</td>\n",
       "      <td>3.015187</td>\n",
       "      <td>-0.133387</td>\n",
       "      <td>-0.114951</td>\n",
       "      <td>-0.509996</td>\n",
       "      <td>-0.513342</td>\n",
       "      <td>-0.497766</td>\n",
       "      <td>-0.493097</td>\n",
       "      <td>0.398208</td>\n",
       "      <td>-0.185992</td>\n",
       "    </tr>\n",
       "    <tr>\n",
       "      <th>3</th>\n",
       "      <td>0.570097</td>\n",
       "      <td>-0.567466</td>\n",
       "      <td>0.196418</td>\n",
       "      <td>1.665344</td>\n",
       "      <td>-1.195458</td>\n",
       "      <td>-1.177960</td>\n",
       "      <td>-1.228873</td>\n",
       "      <td>-1.352571</td>\n",
       "      <td>-0.935210</td>\n",
       "      <td>-0.532812</td>\n",
       "      <td>-0.191023</td>\n",
       "      <td>-0.163315</td>\n",
       "      <td>-0.275507</td>\n",
       "      <td>-0.212798</td>\n",
       "      <td>-0.190437</td>\n",
       "      <td>3.070362</td>\n",
       "      <td>-0.144789</td>\n",
       "      <td>-0.444409</td>\n",
       "      <td>-0.159698</td>\n",
       "      <td>-0.090458</td>\n",
       "      <td>0.808883</td>\n",
       "      <td>-0.625880</td>\n",
       "      <td>-0.044897</td>\n",
       "      <td>-0.238199</td>\n",
       "      <td>-0.411209</td>\n",
       "      <td>1.813574</td>\n",
       "      <td>-0.020406</td>\n",
       "      <td>-0.383823</td>\n",
       "      <td>-0.649451</td>\n",
       "      <td>-0.21128</td>\n",
       "      <td>-0.510860</td>\n",
       "      <td>-0.008329</td>\n",
       "      <td>-0.153774</td>\n",
       "      <td>0.952797</td>\n",
       "      <td>-0.153774</td>\n",
       "      <td>-0.424950</td>\n",
       "      <td>-0.754457</td>\n",
       "      <td>-0.423014</td>\n",
       "      <td>-0.067301</td>\n",
       "      <td>-0.460045</td>\n",
       "      <td>-0.384120</td>\n",
       "      <td>-0.116643</td>\n",
       "      <td>1.414582</td>\n",
       "      <td>-0.331654</td>\n",
       "      <td>-0.133387</td>\n",
       "      <td>-0.114951</td>\n",
       "      <td>-0.509996</td>\n",
       "      <td>1.948019</td>\n",
       "      <td>-0.497766</td>\n",
       "      <td>-0.493097</td>\n",
       "      <td>-2.511252</td>\n",
       "      <td>-0.185992</td>\n",
       "    </tr>\n",
       "    <tr>\n",
       "      <th>4</th>\n",
       "      <td>1.429730</td>\n",
       "      <td>-0.203565</td>\n",
       "      <td>0.196418</td>\n",
       "      <td>-0.351015</td>\n",
       "      <td>0.840802</td>\n",
       "      <td>1.538367</td>\n",
       "      <td>-0.278273</td>\n",
       "      <td>0.719154</td>\n",
       "      <td>0.845855</td>\n",
       "      <td>-0.532812</td>\n",
       "      <td>5.234971</td>\n",
       "      <td>-0.163315</td>\n",
       "      <td>-0.275507</td>\n",
       "      <td>-0.212798</td>\n",
       "      <td>-0.190437</td>\n",
       "      <td>-0.325694</td>\n",
       "      <td>-0.144789</td>\n",
       "      <td>-0.444409</td>\n",
       "      <td>-0.159698</td>\n",
       "      <td>-0.090458</td>\n",
       "      <td>-1.236273</td>\n",
       "      <td>-0.625880</td>\n",
       "      <td>-0.044897</td>\n",
       "      <td>-0.238199</td>\n",
       "      <td>-0.411209</td>\n",
       "      <td>-0.551397</td>\n",
       "      <td>-0.020406</td>\n",
       "      <td>-0.383823</td>\n",
       "      <td>1.539761</td>\n",
       "      <td>-0.21128</td>\n",
       "      <td>-0.510860</td>\n",
       "      <td>-0.008329</td>\n",
       "      <td>-0.153774</td>\n",
       "      <td>0.952797</td>\n",
       "      <td>-0.153774</td>\n",
       "      <td>2.353219</td>\n",
       "      <td>1.325457</td>\n",
       "      <td>-0.423014</td>\n",
       "      <td>-0.067301</td>\n",
       "      <td>-0.460045</td>\n",
       "      <td>2.603353</td>\n",
       "      <td>-0.116643</td>\n",
       "      <td>-0.706923</td>\n",
       "      <td>-0.331654</td>\n",
       "      <td>-0.133387</td>\n",
       "      <td>-0.114951</td>\n",
       "      <td>1.960799</td>\n",
       "      <td>-0.513342</td>\n",
       "      <td>-0.497766</td>\n",
       "      <td>-0.493097</td>\n",
       "      <td>0.398208</td>\n",
       "      <td>-0.185992</td>\n",
       "    </tr>\n",
       "  </tbody>\n",
       "</table>\n",
       "</div>"
      ],
      "text/plain": [
       "          0         1         2         3         4         5         6  \\\n",
       "0 -0.289536 -0.567466  0.196418 -0.351015 -2.213588 -1.599578  2.249459   \n",
       "1 -0.958139 -0.567466  0.196418  1.665344 -1.131825  0.781528  0.477886   \n",
       "2  1.620760 -0.203565  0.196418 -0.351015 -0.113695 -0.647481 -0.321482   \n",
       "3  0.570097 -0.567466  0.196418  1.665344 -1.195458 -1.177960 -1.228873   \n",
       "4  1.429730 -0.203565  0.196418 -0.351015  0.840802  1.538367 -0.278273   \n",
       "\n",
       "          7         8         9        10        11        12        13  \\\n",
       "0 -1.669748 -2.061837 -0.532812 -0.191023 -0.163315 -0.275507 -0.212798   \n",
       "1 -1.563255 -2.419431 -0.532812 -0.191023 -0.163315 -0.275507 -0.212798   \n",
       "2  0.233315  0.399899  1.876835 -0.191023 -0.163315 -0.275507 -0.212798   \n",
       "3 -1.352571 -0.935210 -0.532812 -0.191023 -0.163315 -0.275507 -0.212798   \n",
       "4  0.719154  0.845855 -0.532812  5.234971 -0.163315 -0.275507 -0.212798   \n",
       "\n",
       "         14        15        16        17        18        19        20  \\\n",
       "0 -0.190437 -0.325694 -0.144789 -0.444409 -0.159698 -0.090458 -1.236273   \n",
       "1 -0.190437 -0.325694 -0.144789 -0.444409 -0.159698 -0.090458 -1.236273   \n",
       "2 -0.190437 -0.325694 -0.144789 -0.444409 -0.159698 -0.090458  0.808883   \n",
       "3 -0.190437  3.070362 -0.144789 -0.444409 -0.159698 -0.090458  0.808883   \n",
       "4 -0.190437 -0.325694 -0.144789 -0.444409 -0.159698 -0.090458 -1.236273   \n",
       "\n",
       "         21        22        23        24        25        26        27  \\\n",
       "0  1.597749 -0.044897 -0.238199 -0.411209  1.813574 -0.020406 -0.383823   \n",
       "1  1.597749 -0.044897 -0.238199 -0.411209 -0.551397 -0.020406 -0.383823   \n",
       "2 -0.625880 -0.044897 -0.238199  2.431853 -0.551397 -0.020406 -0.383823   \n",
       "3 -0.625880 -0.044897 -0.238199 -0.411209  1.813574 -0.020406 -0.383823   \n",
       "4 -0.625880 -0.044897 -0.238199 -0.411209 -0.551397 -0.020406 -0.383823   \n",
       "\n",
       "         28       29        30        31        32        33        34  \\\n",
       "0 -0.649451 -0.21128 -0.510860 -0.008329 -0.153774 -1.049542 -0.153774   \n",
       "1  1.539761 -0.21128 -0.510860 -0.008329 -0.153774 -1.049542 -0.153774   \n",
       "2 -0.649451 -0.21128  1.957483 -0.008329 -0.153774  0.952797 -0.153774   \n",
       "3 -0.649451 -0.21128 -0.510860 -0.008329 -0.153774  0.952797 -0.153774   \n",
       "4  1.539761 -0.21128 -0.510860 -0.008329 -0.153774  0.952797 -0.153774   \n",
       "\n",
       "         35        36        37        38        39        40        41  \\\n",
       "0  2.353219 -0.754457 -0.423014 -0.067301 -0.460045 -0.384120 -0.116643   \n",
       "1 -0.424950  1.325457  2.363988 -0.067301 -0.460045 -0.384120 -0.116643   \n",
       "2  2.353219 -0.754457 -0.423014 -0.067301 -0.460045 -0.384120 -0.116643   \n",
       "3 -0.424950 -0.754457 -0.423014 -0.067301 -0.460045 -0.384120 -0.116643   \n",
       "4  2.353219  1.325457 -0.423014 -0.067301 -0.460045  2.603353 -0.116643   \n",
       "\n",
       "         42        43        44        45        46        47        48  \\\n",
       "0 -0.706923  3.015187 -0.133387 -0.114951 -0.509996 -0.513342 -0.497766   \n",
       "1 -0.706923 -0.331654 -0.133387 -0.114951 -0.509996 -0.513342 -0.497766   \n",
       "2 -0.706923  3.015187 -0.133387 -0.114951 -0.509996 -0.513342 -0.497766   \n",
       "3  1.414582 -0.331654 -0.133387 -0.114951 -0.509996  1.948019 -0.497766   \n",
       "4 -0.706923 -0.331654 -0.133387 -0.114951  1.960799 -0.513342 -0.497766   \n",
       "\n",
       "         49        50        51  \n",
       "0  2.028000  0.398208 -0.185992  \n",
       "1  2.028000 -2.511252 -0.185992  \n",
       "2 -0.493097  0.398208 -0.185992  \n",
       "3 -0.493097 -2.511252 -0.185992  \n",
       "4 -0.493097  0.398208 -0.185992  "
      ]
     },
     "execution_count": 75,
     "metadata": {},
     "output_type": "execute_result"
    }
   ],
   "source": [
    "X_train.head(5)"
   ]
  },
  {
   "cell_type": "code",
   "execution_count": 76,
   "metadata": {},
   "outputs": [
    {
     "data": {
      "text/plain": [
       "LogisticRegression()"
      ]
     },
     "execution_count": 76,
     "metadata": {},
     "output_type": "execute_result"
    }
   ],
   "source": [
    "clf = LogisticRegression()\n",
    "clf.fit(X_train, y_train)"
   ]
  },
  {
   "cell_type": "code",
   "execution_count": 77,
   "metadata": {},
   "outputs": [
    {
     "name": "stdout",
     "output_type": "stream",
     "text": [
      "Время на обучение модели: 0.16501235961914062\n",
      "AUC-PR (40 признаков) = 0.95231\n",
      "indices = Int64Index([47, 48,  0, 13, 38, 16, 22, 29, 28, 45, 26, 18, 24, 17, 11, 10, 25,\n",
      "            12, 14, 33, 32, 34, 39, 35, 44, 19,  3, 27, 15, 46,  9, 31,  1, 30,\n",
      "            43,  2, 40, 42, 36,  4],\n",
      "           dtype='int64')\n"
     ]
    }
   ],
   "source": [
    "start_time = time.time()\n",
    "\n",
    "indices = pd.DataFrame(clf.coef_[0], [*range(52)]).sort_values(by=0).tail(40).index\n",
    "\n",
    "x_train = X_train.iloc[:, indices.values]\n",
    "x_test = X_test.iloc[:, indices.values]\n",
    "\n",
    "clf = LogisticRegression()\n",
    "clf.fit(x_train, y_train)\n",
    "a_x = clf.predict(x_test)\n",
    "\n",
    "auc_pr_lr_fourty = auc_pr(y_test,a_x)\n",
    "\n",
    "print('Время на обучение модели:', time.time() - start_time)\n",
    "print(\"AUC-PR (40 признаков) = %.5f\" %  auc_pr_lr_fourty)\n",
    "print('indices =', indices)"
   ]
  },
  {
   "cell_type": "markdown",
   "metadata": {},
   "source": [
    "- **Качество выросло еще на 1%**\n",
    "\n",
    "- **По сравнению с первоначальной моделью, которая использует все признаки качество изменилось не сильно(**\n",
    "\n",
    "- **Список лучших признаков изменился по сравнению со списком, где категориальные данные не подвергались масштабированию**\n",
    "\n",
    "- **Все рассмотренные в части 2 методы по времени были примерно одинаковые**"
   ]
  },
  {
   "cell_type": "markdown",
   "metadata": {},
   "source": [
    "### Методы фильтрации\n",
    "\n",
    "\n",
    "Давайте отбирать признаки умнее, а именно через подсчёт некоторой функции для каждого признака. На основании значений этой функции будем оставлять наиболее важные признаки. Методы этого семейства называют фильтрующими или  filter methods. \n",
    "\n",
    "В качестве такой функции будем считать t-статистику:\n",
    "\n",
    "$$t(j) = \\frac{|\\mu_+ - \\mu_-|}{\\sqrt{\\frac{n_+ \\sigma^2_+ + n_- \\sigma^2_-}{n_+ + n_-}}},$$\n",
    "\n",
    "где $\\mu$, $\\sigma$, $n$ соответственно среднее, стандартное отклонение и количество объектов каждого из классов.\n",
    "\n",
    "Оставим 40 признаков с наибольшим значением $t$ и замерим качество. "
   ]
  },
  {
   "cell_type": "code",
   "execution_count": 78,
   "metadata": {},
   "outputs": [],
   "source": [
    "from math import sqrt"
   ]
  },
  {
   "cell_type": "code",
   "execution_count": 79,
   "metadata": {},
   "outputs": [],
   "source": [
    "X_train.columns = np.arange(X_train.shape[1])"
   ]
  },
  {
   "cell_type": "code",
   "execution_count": 80,
   "metadata": {},
   "outputs": [],
   "source": [
    "y_train = y_train.reset_index().drop(columns = 'index')['y']"
   ]
  },
  {
   "cell_type": "code",
   "execution_count": 81,
   "metadata": {},
   "outputs": [
    {
     "name": "stdout",
     "output_type": "stream",
     "text": [
      "[2.40194636e-03 3.62593853e-03 1.81992561e-02 1.28209736e-02\n",
      " 1.65510053e-02 7.27031748e-03 3.03676783e-03 1.71327392e-02\n",
      " 1.98185702e-02 4.24168989e-03 8.37151168e-04 2.37352778e-05\n",
      " 3.40765572e-06 5.36088042e-03 2.20944031e-04 1.74669172e-03\n",
      " 4.94926405e-03 6.01659783e-04 1.06419210e-03 1.60217991e-04\n",
      " 2.09613888e-03 2.74487878e-03 4.70848083e-04 9.01743889e-04\n",
      " 2.45359675e-03 4.21466242e-04 1.93417220e-04 4.01290077e-04\n",
      " 2.76444491e-03 1.14990373e-03 5.57761136e-03 1.64674025e-04\n",
      " 2.03788132e-04 6.89067491e-04 2.03788132e-04 3.01272216e-04\n",
      " 7.96559360e-03 4.06896748e-04 4.48411737e-03 1.89717744e-03\n",
      " 4.11302542e-04 7.95559568e-03 6.15072392e-03 6.49060606e-04\n",
      " 7.44173356e-03 6.84836986e-03 1.35989373e-03 8.77919976e-04\n",
      " 6.26240476e-04 4.25546352e-04 1.07582061e-02 1.78241105e-02]\n",
      "Время на обучение модели: 0.5513772964477539\n",
      "AUC-PR (40 признаков) = 0.95365\n"
     ]
    }
   ],
   "source": [
    "start_time = time.time()\n",
    "\n",
    "t = np.empty(X_train.shape[1])\n",
    "\n",
    "for j in range(X_train.shape[1]):\n",
    "    t[j] = (abs(X_train[j][y_train == 1].mean() - X_train[j][y_train == 0].mean())/\n",
    "    sqrt((X_train[j][y_train == 1].shape[0] * (X_train[j][y_train == 1].std() ** 2) +\n",
    "        X_train[j][y_train == 0].shape[0] * (X_train[j][y_train == 0].std() ** 2))/ \n",
    "        X_train[j][y_train == 1].shape[0] + X_train[j][y_train == 0].shape[0]))\n",
    "\n",
    "print(t)\n",
    "indices = pd.DataFrame(t, [*range(52)]).sort_values(by=0).tail(40).index\n",
    "\n",
    "x_train = X_train.iloc[:, indices.values]\n",
    "x_test = X_test.iloc[:, indices.values]\n",
    "\n",
    "clf1 = LogisticRegression()\n",
    "clf1.fit(x_train, y_train)\n",
    "a_x = clf1.predict(x_test)\n",
    "\n",
    "auc_pr_lr_fourty = auc_pr(y_test,a_x)\n",
    "\n",
    "print('Время на обучение модели:', time.time() - start_time)\n",
    "print(\"AUC-PR (40 признаков) = %.5f\" %  auc_pr_lr_fourty)"
   ]
  },
  {
   "cell_type": "markdown",
   "metadata": {},
   "source": [
    "- **При отборе 40 лучших призанаков, это самая лучшая модель по качеству**\n",
    "- По времени работает примерно столько же сколько у моедли которая выбирает наибольшие веса"
   ]
  },
  {
   "cell_type": "markdown",
   "metadata": {},
   "source": [
    "### Методы-обёртки\n",
    "\n",
    "Третий из рассматриваемых нами методов работает следующим образом: мы исключаем по очереди один из признаков и смотрим, как это влияет на качество. Удаляем признаки таким жадным способом, пока не окажется выполненым некоторое условие (количество признаков или ухудшение качества).\n",
    "\n",
    "Снова оставьте только 40 признаков и оцените качество на тестовой выборке. Сколько времени занял такой отбор признаков?"
   ]
  },
  {
   "cell_type": "markdown",
   "metadata": {},
   "source": [
    "**Лучше всего показал себя метод, при котором мы:**\n",
    "- **Категориальные признаки кодировали ohe;**\n",
    "- **После кодирования категориальных признаков, масштабировали все данные (и вещественные, и закодированные категории).**\n",
    "\n",
    "**Поэтому в основании будем использовать его**"
   ]
  },
  {
   "cell_type": "code",
   "execution_count": 82,
   "metadata": {},
   "outputs": [],
   "source": [
    "#ПОДГРУЗКА ДАННЫХ\n",
    "df = pd.read_csv('bank-additional-full.csv', sep=';')\n",
    "\n",
    "#удалили целевой столбец и неинформативный признак\n",
    "X = df.drop(columns=['duration', 'y'])\n",
    "\n",
    "#обработали столбец таргета\n",
    "df.loc[df['y'] == 'yes', 'y'] = 0\n",
    "df.loc[df['y'] == 'no', 'y'] = 1\n",
    "y = df['y']\n",
    "\n",
    "#обучающая и тестовая\n",
    "X_train, X_test, y_train, y_test = train_test_split(X, y, test_size=0.25, random_state=42)\n",
    "\n",
    "#валидационная\n",
    "X_train1, X_val, y_train1, y_val = train_test_split(X_train, y_train, test_size=0.3, random_state=42)\n",
    "\n",
    "#ПРЕОБРАЗОВАНИЕ ЦЕЛЕЛВОЙ ПЕРЕМЕННОЙ \n",
    "y_train = y_train.astype('int')\n",
    "y_train1 = y_train1.astype('int')\n",
    "y_test = y_test.astype('int')\n",
    "y_val = y_val.astype('int')\n",
    "\n",
    "#КОДИРОВАНИЕ ДАННЫХ\n",
    "#закодировали категории\n",
    "cat_mask1 = X_train1.select_dtypes(include=['object']).columns\n",
    "cat_mask2 = X_test.select_dtypes(include=['object']).columns\n",
    "cat_mask3 = X_val.select_dtypes(include=['object']).columns\n",
    "\n",
    "#drop_first = True даст k-1 столбцов для столбца с k категориями -> избежим попадения в дамми-трэп\n",
    "X_train1 = pd.get_dummies(X_train1, columns = cat_mask1, drop_first=True)\n",
    "X_test = pd.get_dummies(X_test, columns = cat_mask2, drop_first=True)\n",
    "X_val = pd.get_dummies(X_val, columns = cat_mask3, drop_first=True)\n",
    "columns_ = X_train1.columns\n",
    "\n",
    "#отмасштабируем все!\n",
    "scaler = StandardScaler()\n",
    "\n",
    "X_train1 = pd.DataFrame(scaler.fit_transform(X_train1))\n",
    "X_test = pd.DataFrame(scaler.transform(X_test))\n",
    "X_val = pd.DataFrame(scaler.transform(X_val))\n",
    "\n",
    "X_train1.columns = columns_\n",
    "X_test.columns = columns_\n",
    "X_val.columns = columns_"
   ]
  },
  {
   "cell_type": "markdown",
   "metadata": {},
   "source": [
    "### Начинаем отбор"
   ]
  },
  {
   "cell_type": "code",
   "execution_count": 83,
   "metadata": {},
   "outputs": [
    {
     "name": "stdout",
     "output_type": "stream",
     "text": [
      "НЕ удаляем признак  pdays качество  0.9519769371376476\n",
      "НЕ удаляем признак  cons.price.idx качество  0.9520158418072717\n",
      "НЕ удаляем признак  cons.conf.idx качество  0.9522700016383931\n",
      "НЕ удаляем признак  euribor3m качество  0.952448567473639\n",
      "НЕ удаляем признак  nr.employed качество  0.9523333652363563\n",
      "НЕ удаляем признак  job_blue-collar качество  0.9523083692807148\n",
      "НЕ удаляем признак  job_entrepreneur качество  0.9523083692807148\n",
      "НЕ удаляем признак  job_housemaid качество  0.9522574979491847\n",
      "НЕ удаляем признак  job_management качество  0.9522191468468586\n",
      "НЕ удаляем признак  job_retired качество  0.9519011092759152\n",
      "НЕ удаляем признак  job_self-employed качество  0.9522825041431126\n",
      "НЕ удаляем признак  job_services качество  0.9523083692807148\n",
      "НЕ удаляем признак  job_student качество  0.9521425060143921\n",
      "НЕ удаляем признак  job_technician качество  0.9522825041431126\n",
      "НЕ удаляем признак  job_unemployed качество  0.9522574979491847\n",
      "НЕ удаляем признак  job_unknown качество  0.9522700016383931\n",
      "НЕ удаляем признак  marital_married качество  0.9522574979491847\n",
      "НЕ удаляем признак  marital_single качество  0.9522574979491847\n",
      "НЕ удаляем признак  marital_unknown качество  0.9522574979491847\n",
      "НЕ удаляем признак  education_basic.6y качество  0.95220663804043\n",
      "НЕ удаляем признак  education_basic.9y качество  0.9522449930750878\n",
      "НЕ удаляем признак  education_high.school качество  0.9522958695272864\n",
      "НЕ удаляем признак  education_illiterate качество  0.9522449930750878\n",
      "НЕ удаляем признак  education_professional.course качество  0.9522958695272864\n",
      "НЕ удаляем признак  education_university.degree качество  0.9522199797706324\n",
      "НЕ удаляем признак  education_unknown качество  0.9523083692807148\n",
      "НЕ удаляем признак  default_unknown качество  0.9521683034718221\n",
      "НЕ удаляем признак  default_yes качество  0.9522574979491847\n",
      "НЕ удаляем признак  housing_unknown качество  0.9522574979491847\n",
      "НЕ удаляем признак  housing_yes качество  0.9520416014799026\n",
      "НЕ удаляем признак  loan_unknown качество  0.9522574979491847\n",
      "НЕ удаляем признак  loan_yes качество  0.9522449930750878\n",
      "НЕ удаляем признак  contact_telephone качество  0.9514196093668815\n",
      "НЕ удаляем признак  month_aug качество  0.9524994896651868\n",
      "НЕ удаляем признак  month_dec качество  0.9522316544677818\n",
      "НЕ удаляем признак  month_jul качество  0.9522833685895878\n",
      "НЕ удаляем признак  month_jun качество  0.952448567473639\n",
      "НЕ удаляем признак  month_mar качество  0.9519017182508864\n",
      "НЕ удаляем признак  month_may качество  0.9520799108445042\n",
      "НЕ удаляем признак  month_nov качество  0.952384237751359\n",
      "НЕ удаляем признак  month_oct качество  0.9521941280480974\n",
      "НЕ удаляем признак  month_sep качество  0.9523467574085431\n",
      "НЕ удаляем признак  day_of_week_mon качество  0.952091695677646\n",
      "НЕ удаляем признак  day_of_week_thu качество  0.9523592520388693\n",
      "НЕ удаляем признак  day_of_week_tue качество  0.9524351216919688\n",
      "НЕ удаляем признак  day_of_week_wed качество  0.9523717454863417\n",
      "НЕ удаляем признак  poutcome_nonexistent качество  0.9521432744424673\n",
      "НЕ удаляем признак  poutcome_success качество  0.952614926336159\n",
      "лучшее auc_pr 0.952716904641953\n",
      "Время на обучение модели: 18.108280897140503\n",
      "AUC-PR (40 признаков) = 0.95373\n"
     ]
    }
   ],
   "source": [
    "start_time = time.time()\n",
    "\n",
    "best_to_drop = 0\n",
    "best_auc = 0.5\n",
    "X = X_train1\n",
    "val = X_val\n",
    "for col in columns_:\n",
    "    #убираем один признак\n",
    "    x_train = X.drop(columns = col)\n",
    "    \n",
    "    #обучаем модель без этого признака\n",
    "    clas = LogisticRegression()\n",
    "    clas.fit(x_train, y_train1)\n",
    "    \n",
    "    #из валидационной выборки также исключаем этот признак\n",
    "    x_val = val.drop(columns = col)\n",
    "    \n",
    "    #cтроим предказания\n",
    "    predict = clas.predict(x_val)\n",
    "    \n",
    "    #считаем качество\n",
    "    auc_pr_new = auc_pr(y_val, predict)\n",
    "    \n",
    "    #если есть улучшения качества, значит этот признак однозначно удаляем из нашей выборки\n",
    "    if auc_pr_new > best_auc:\n",
    "        best_auc = auc_pr_new\n",
    "        best_to_drop = col\n",
    "        \n",
    "        X_train1 = X_train1.drop(columns = best_to_drop)\n",
    "\n",
    "        X_val = X_val.drop(columns = best_to_drop)\n",
    "\n",
    "        X_test = X_test.drop(columns = best_to_drop)\n",
    "        \n",
    "    else:\n",
    "        print('НЕ удаляем признак ', col, 'качество ', auc_pr_new)\n",
    "print('лучшее auc_pr', best_auc)\n",
    "\n",
    "\n",
    "y_train1 = y_train1.reset_index().drop(columns = 'index')['y']\n",
    "y_test = y_test.reset_index().drop(columns = 'index')['y']\n",
    "X_train1.columns = np.arange(X_train1.shape[1])\n",
    "X_test.columns = np.arange(X_test.shape[1])\n",
    "\n",
    "\n",
    "\n",
    "t = np.empty(X_train1.shape[1])\n",
    "\n",
    "for j in range(X_train1.shape[1]):\n",
    "    t[j] = (abs(X_train1[j][y_train1 == 1].mean() - X_train1[j][y_train1 == 0].mean())/\n",
    "    sqrt((X_train1[j][y_train1 == 1].shape[0] * (X_train1[j][y_train1 == 1].std() ** 2) +\n",
    "        X_train1[j][y_train1 == 0].shape[0] * (X_train1[j][y_train1 == 0].std() ** 2))/ \n",
    "        X_train1[j][y_train1 == 1].shape[0] + X_train1[j][y_train1 == 0].shape[0]))\n",
    "\n",
    "indices = pd.DataFrame(t, [*range(48)]).sort_values(by=0).tail(40).index\n",
    "\n",
    "x_train = X_train1.iloc[:, indices.values]\n",
    "x_test = X_test.iloc[:, indices.values]\n",
    "\n",
    "clf1 = LogisticRegression()\n",
    "clf1.fit(x_train, y_train1)\n",
    "a_x = clf1.predict(x_test)\n",
    "\n",
    "auc_pr_lr_fourty = auc_pr(y_test,a_x)\n",
    "\n",
    "print('Время на обучение модели:', time.time() - start_time)\n",
    "print(\"AUC-PR (40 признаков) = %.5f\" %  auc_pr_lr_fourty)"
   ]
  },
  {
   "cell_type": "markdown",
   "metadata": {},
   "source": [
    "- **Хорошая прибавка в качестве**\n",
    "- **Да, затратно, но это еще из-за того, что мы использовали способ отбора лучших 40 признаков с помощью t-статистики**"
   ]
  },
  {
   "cell_type": "markdown",
   "metadata": {},
   "source": [
    "Поробуем использовать данный метод в обратную сторону)"
   ]
  },
  {
   "cell_type": "code",
   "execution_count": 84,
   "metadata": {},
   "outputs": [],
   "source": [
    "#ПОДГРУЗКА ДАННЫХ\n",
    "df = pd.read_csv('bank-additional-full.csv', sep=';')\n",
    "\n",
    "#удалили целевой столбец и неинформативный признак\n",
    "X = df.drop(columns=['duration', 'y'])\n",
    "\n",
    "#обработали столбец таргета\n",
    "df.loc[df['y'] == 'yes', 'y'] = 0\n",
    "df.loc[df['y'] == 'no', 'y'] = 1\n",
    "y = df['y']\n",
    "\n",
    "#обучающая и тестовая\n",
    "X_train, X_test, y_train, y_test = train_test_split(X, y, test_size=0.25, random_state=42)\n",
    "\n",
    "#валидационная\n",
    "X_train1, X_val, y_train1, y_val = train_test_split(X_train, y_train, test_size=0.3, random_state=42)\n",
    "\n",
    "#ПРЕОБРАЗОВАНИЕ ЦЕЛЕЛВОЙ ПЕРЕМЕННОЙ \n",
    "y_train = y_train.astype('int')\n",
    "y_train1 = y_train1.astype('int')\n",
    "y_test = y_test.astype('int')\n",
    "y_val = y_val.astype('int')\n",
    "\n",
    "#КОДИРОВАНИЕ ДАННЫХ\n",
    "#закодировали категории\n",
    "cat_mask1 = X_train1.select_dtypes(include=['object']).columns\n",
    "cat_mask2 = X_test.select_dtypes(include=['object']).columns\n",
    "cat_mask3 = X_val.select_dtypes(include=['object']).columns\n",
    "\n",
    "#drop_first = True даст k-1 столбцов для столбца с k категориями -> избежим попадения в дамми-трэп\n",
    "X_train1 = pd.get_dummies(X_train1, columns = cat_mask1, drop_first=True)\n",
    "X_test = pd.get_dummies(X_test, columns = cat_mask2, drop_first=True)\n",
    "X_val = pd.get_dummies(X_val, columns = cat_mask3, drop_first=True)\n",
    "columns_ = X_train1.columns\n",
    "\n",
    "#отмасштабируем все!\n",
    "scaler = StandardScaler()\n",
    "\n",
    "X_train1 = pd.DataFrame(scaler.fit_transform(X_train1))\n",
    "X_test = pd.DataFrame(scaler.transform(X_test))\n",
    "X_val = pd.DataFrame(scaler.transform(X_val))\n",
    "\n",
    "X_train1.columns = columns_\n",
    "X_test.columns = columns_\n",
    "X_val.columns = columns_\n",
    "\n",
    "\n",
    "X_train_3 = pd.DataFrame()\n",
    "X_test_3 = pd.DataFrame()\n",
    "X_valid_3 = pd.DataFrame()"
   ]
  },
  {
   "cell_type": "markdown",
   "metadata": {},
   "source": [
    "### Отбор данных"
   ]
  },
  {
   "cell_type": "code",
   "execution_count": 85,
   "metadata": {},
   "outputs": [
    {
     "name": "stdout",
     "output_type": "stream",
     "text": [
      "Признак:  age качество =  0.9409257660768235\n",
      "Признак:  campaign качество =  0.9409257660768235\n",
      "Признак:  pdays качество =  0.951280768359732\n",
      "Признак:  previous качество =  0.9511920306477837\n",
      "Признак:  emp.var.rate качество =  0.9504600973373367\n",
      "Признак:  cons.price.idx качество =  0.9505615382923853\n",
      "Признак:  cons.conf.idx качество =  0.9504751150712779\n",
      "Признак:  euribor3m качество =  0.9505501697986891\n",
      "Признак:  nr.employed качество =  0.9504249287987095\n",
      "Признак:  job_blue-collar качество =  0.9504370563472193\n",
      "Признак:  job_entrepreneur качество =  0.9504745850478666\n",
      "Признак:  job_housemaid качество =  0.950537492309468\n",
      "Признак:  job_management качество =  0.9504872687367636\n",
      "Признак:  job_retired качество =  0.9504872687367636\n",
      "Признак:  job_self-employed качество =  0.950537492309468\n",
      "Признак:  job_services качество =  0.9504497438038159\n",
      "Признак:  job_student качество =  0.9505628460744803\n",
      "Признак:  job_technician качество =  0.950613070860615\n",
      "Признак:  job_unemployed качество =  0.950613070860615\n",
      "Признак:  job_unknown качество =  0.9505501697986891\n",
      "Признак:  marital_married качество =  0.9506886358017411\n",
      "Признак:  marital_single качество =  0.9506886358017411\n",
      "Признак:  marital_unknown качество =  0.9506886358017411\n",
      "Признак:  education_basic.6y качество =  0.9506633068326708\n",
      "Признак:  education_basic.9y качество =  0.950613070860615\n",
      "Признак:  education_high.school качество =  0.9506759719225405\n",
      "Признак:  education_illiterate качество =  0.9506759719225405\n",
      "Признак:  education_professional.course качество =  0.9504497438038159\n",
      "Признак:  education_university.degree качество =  0.9503868551371006\n",
      "Признак:  education_unknown качество =  0.9503741614835888\n",
      "Признак:  default_unknown качество =  0.9505248136064113\n",
      "Признак:  default_yes качество =  0.9505248136064113\n",
      "Признак:  housing_unknown качество =  0.9505248136064113\n",
      "Признак:  housing_yes качество =  0.9504116777862652\n",
      "Признак:  loan_unknown качество =  0.9504116777862652\n",
      "Признак:  loan_yes качество =  0.9505121336891131\n",
      "Признак:  contact_telephone качество =  0.9515209557442759\n",
      "Признак:  month_aug качество =  0.9517488985685824\n",
      "Признак:  month_dec качество =  0.9517488985685824\n",
      "Признак:  month_jul качество =  0.9515709062871788\n",
      "лучшее качество  0.9517488985685824\n",
      "Время на отбор признаков: 3.8911149501800537\n"
     ]
    }
   ],
   "source": [
    "start_time = time.time()\n",
    "\n",
    "best_to_add = 0\n",
    "best_auc = 0.5\n",
    "\n",
    "for col in columns_:\n",
    "    #в пустой датафрейс докладываем один признак из начальных данных\n",
    "    X_train_3[col] = X_train1[col]\n",
    "    \n",
    "    X_valid_3[col] = X_val[col]\n",
    "    \n",
    "\n",
    "    #обучаем регрессию на полученном наборе данных\n",
    "    clas = LogisticRegression()\n",
    "    clas.fit(X_train_3, y_train1)\n",
    "\n",
    "    #cтроим предказания\n",
    "    predict = clas.predict(X_valid_3)\n",
    "\n",
    "    #считаем качество\n",
    "    auc_pr_new = auc_pr(y_val, predict)\n",
    "    \n",
    "    print('Признак: ', col, 'качество = ', auc_pr_new)\n",
    "\n",
    "    #если есть улучшения по качеству, оставляем этот признак в датафреймe \n",
    "    if auc_pr_new > best_auc:\n",
    "        best_auc = auc_pr_new\n",
    "        best_to_add = col\n",
    "\n",
    "        X_train_3[col] = X_train1[best_to_add]\n",
    "        X_valid_3[col] = X_val[best_to_add]\n",
    "        X_test_3[col] = X_test[best_to_add]\n",
    "        \n",
    "        #удаляем этот признак из выборки, из которой берем данные\n",
    "        X_train1 = X_train1.drop(columns = best_to_add)\n",
    "        X_val = X_val.drop(columns = best_to_add)\n",
    "        X_test = X_test.drop(columns = best_to_add)\n",
    "        \n",
    "    if X_train_3.shape[1] == 40:\n",
    "        break\n",
    "        \n",
    "print('лучшее качество ', best_auc)\n",
    "print('Время на отбор признаков:', time.time() - start_time)"
   ]
  },
  {
   "cell_type": "markdown",
   "metadata": {},
   "source": [
    "- **Если мы внимательно посмотрим на качество модели при добавлении признаков, можно заметить, что в его изменеии нет зависимости, поэтому я не могу сказать, что  существует порог, при котором добавление следующих признаков будет ухудшать качество модели**"
   ]
  },
  {
   "cell_type": "markdown",
   "metadata": {},
   "source": [
    "- **Понятно, что этот метод проиграет по качетву предыдущему, так как ошибка на валидации хуже**"
   ]
  },
  {
   "cell_type": "markdown",
   "metadata": {},
   "source": [
    "## ВЫВОДЫ\n",
    "\n",
    "### К лучшему качеству привел метод, когда мы исключали по очереди один из признаков и смотрели, как это влияет на качество. При чем при отборе признаков я использовала t-статистику. Минус метода - он был самый затратный по времени. \n",
    "\n",
    "### Использовали ohe и StandartScaler в разных интерпритациях, самое лучшее качество получалось, когда категориальные данные были закодированы отдельно, а потом был отскалирован весь массив данных. \n",
    "\n",
    "### В целом я писала наблюдения после каждого эксперимента)\n"
   ]
  }
 ],
 "metadata": {
  "kernelspec": {
   "display_name": "Python 3",
   "language": "python",
   "name": "python3"
  },
  "language_info": {
   "codemirror_mode": {
    "name": "ipython",
    "version": 3
   },
   "file_extension": ".py",
   "mimetype": "text/x-python",
   "name": "python",
   "nbconvert_exporter": "python",
   "pygments_lexer": "ipython3",
   "version": "3.8.3"
  }
 },
 "nbformat": 4,
 "nbformat_minor": 4
}
